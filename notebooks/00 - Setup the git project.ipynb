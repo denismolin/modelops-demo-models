{
 "cells": [
  {
   "cell_type": "markdown",
   "id": "eb23c491-a8b4-40b5-b370-6d1b66ccd67c",
   "metadata": {},
   "source": [
    "# Setup the git project"
   ]
  },
  {
   "cell_type": "markdown",
   "id": "532f819f-1bf0-4fb3-b63c-58ce4c683134",
   "metadata": {},
   "source": [
    "# 1 - Connect to Vantage"
   ]
  },
  {
   "cell_type": "code",
   "execution_count": 1,
   "id": "9880a21e-0bc7-4b39-8125-41dfd87a9dd1",
   "metadata": {},
   "outputs": [
    {
     "data": {
      "text/plain": [
       "'17.20.00.04'"
      ]
     },
     "execution_count": 1,
     "metadata": {},
     "output_type": "execute_result"
    }
   ],
   "source": [
    "import teradataml as tdml\n",
    "tdml.options.configure.byom_install_location = \"mldb\"\n",
    "tdml.display.print_sqlmr_query = True\n",
    "import getpass\n",
    "import json\n",
    "from datetime import datetime\n",
    "tic = datetime.now()\n",
    "tdml.__version__"
   ]
  },
  {
   "cell_type": "code",
   "execution_count": 2,
   "id": "bc7d03d0-2b8e-4e46-bae3-530ffc85b013",
   "metadata": {},
   "outputs": [
    {
     "name": "stderr",
     "output_type": "stream",
     "text": [
      "C:\\Users\\dm250067\\Anaconda3\\envs\\vantage39\\lib\\site-packages\\teradataml\\context\\context.py:480: TeradataMlRuntimeWarning: Warning: Password is URL encoded.\n",
      "  warnings.warn(\"Warning: Password is URL encoded.\", category=TeradataMlRuntimeWarning)\n"
     ]
    },
    {
     "data": {
      "text/plain": [
       "Engine(teradatasql://:***@tdprd3.td.teradata.com/?DATABASE=ADLDSD_CHURN&LOGDATA=%2A%2A%2A&LOGMECH=%2A%2A%2A&USER=DM250067)"
      ]
     },
     "execution_count": 2,
     "metadata": {},
     "output_type": "execute_result"
    }
   ],
   "source": [
    "Param = {\n",
    "    'host'          : 'tdprd2.td.teradata.com', \n",
    "    'user'          : 'dm250067', \n",
    "    'password'      : \"ENCRYPTED_PASSWORD(file:{},file:{})\".format ('../../PassKey.properties','../../EncPass.properties'), #getpass.getpass(), \n",
    "    'logmech'       : 'LDAP',\n",
    "    'database'      : 'ADLSLSEMEA_DEMO_BANKING',\n",
    "    'temp_database_name' : 'ADLSLSEMEA_DEMO_BANKING'\n",
    "    }\n",
    "\n",
    "Param = {\n",
    "    'host'          : 'tdprd3.td.teradata.com', \n",
    "    'user'          : 'dm250067', \n",
    "    'password'      : \"ENCRYPTED_PASSWORD(file:{},file:{})\".format ('../../PassKey.properties','../../EncPass.properties'), #getpass.getpass(), \n",
    "    'logmech'       : 'LDAP',\n",
    "    'database'      : 'ADLDSD_CHURN',\n",
    "    'temp_database_name' : 'ADLDSD_CHURN'\n",
    "    }\n",
    "\n",
    "tdml.create_context(**Param)"
   ]
  },
  {
   "cell_type": "markdown",
   "id": "06edb598-9360-455b-b037-3ac87d57fc6a",
   "metadata": {},
   "source": [
    "## 2 - Creating the model table"
   ]
  },
  {
   "cell_type": "code",
   "execution_count": 3,
   "id": "9c7d835c-a42b-489c-ad10-ce36775445f8",
   "metadata": {},
   "outputs": [],
   "source": [
    "#ddl for Aoa_Byom_Models \n",
    "query = f\"\"\"CREATE SET TABLE {Param['database']}.Aoa_Byom_Models \n",
    "     (\n",
    "      model_version VARCHAR(255) CHARACTER SET LATIN NOT CASESPECIFIC,\n",
    "      model_id VARCHAR(255) CHARACTER SET LATIN NOT CASESPECIFIC,\n",
    "      model_type VARCHAR(255) CHARACTER SET LATIN NOT CASESPECIFIC,\n",
    "      project_id VARCHAR(255) CHARACTER SET LATIN NOT CASESPECIFIC,\n",
    "      deployed_at TIMESTAMP(6) DEFAULT CURRENT_TIMESTAMP(6),\n",
    "      model BLOB(2097088000))\n",
    "UNIQUE PRIMARY INDEX ( model_version );\n",
    "\"\"\"\n",
    " \n",
    "try:\n",
    "    tdml.execute_sql(query)\n",
    "except:\n",
    "    tdml.execute_sql(f\"DROP TABLE {Param['database']}.Aoa_Byom_Models;\")\n",
    "    tdml.execute_sql(query)"
   ]
  },
  {
   "cell_type": "markdown",
   "id": "ddc12a1a-9b5a-441c-800e-c73a0feab8dc",
   "metadata": {},
   "source": [
    "## 3 - Creating the aoa statistics table"
   ]
  },
  {
   "cell_type": "code",
   "execution_count": 4,
   "id": "9b2a0fb1-28f8-42fb-a612-db55a0988dbf",
   "metadata": {},
   "outputs": [],
   "source": [
    "\n",
    "\n",
    "#ddl for Aoa_Byom_Models \n",
    "query = f\"\"\"CREATE MULTISET TABLE {Param['database']}.aoa_statistics_metadata ,FALLBACK ,\n",
    "     NO BEFORE JOURNAL,\n",
    "     NO AFTER JOURNAL,\n",
    "     CHECKSUM = DEFAULT,\n",
    "     DEFAULT MERGEBLOCKRATIO,\n",
    "     MAP = TD_MAP1\n",
    "     (\n",
    "      column_name VARCHAR(1024) CHARACTER SET LATIN NOT CASESPECIFIC,\n",
    "      column_type VARCHAR(1024) CHARACTER SET LATIN NOT CASESPECIFIC,\n",
    "      stats VARCHAR(1024) CHARACTER SET LATIN NOT CASESPECIFIC,\n",
    "      update_ts VARCHAR(1024) CHARACTER SET LATIN NOT CASESPECIFIC)\n",
    "NO PRIMARY INDEX ;\n",
    "\"\"\"\n",
    " \n",
    "try:\n",
    "    tdml.execute_sql(query)\n",
    "except:\n",
    "    tdml.execute_sql(f\"DROP TABLE {Param['database']}.aoa_statistics_metadata;\")\n",
    "    tdml.execute_sql(query)"
   ]
  }
 ],
 "metadata": {
  "kernelspec": {
   "display_name": "Python 3 (ipykernel)",
   "language": "python",
   "name": "python3"
  },
  "language_info": {
   "codemirror_mode": {
    "name": "ipython",
    "version": 3
   },
   "file_extension": ".py",
   "mimetype": "text/x-python",
   "name": "python",
   "nbconvert_exporter": "python",
   "pygments_lexer": "ipython3",
   "version": "3.10.8"
  }
 },
 "nbformat": 4,
 "nbformat_minor": 5
}
