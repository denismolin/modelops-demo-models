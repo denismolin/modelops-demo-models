{
 "cells": [
  {
   "cell_type": "markdown",
   "id": "e743dbee-39ba-4a3b-a7b1-c3d36f0bef87",
   "metadata": {},
   "source": [
    "![](./images/Title.PNG)\n",
    "<div class=\"alert alert-block alert-info\"> <b> </b> \n",
    "</div>"
   ]
  },
  {
   "cell_type": "markdown",
   "id": "86acf6f6-6ec5-47db-bc8c-e4e3ae7a6ef7",
   "metadata": {},
   "source": [
    "![](./images/key_messages.PNG)"
   ]
  },
  {
   "cell_type": "markdown",
   "id": "59a14b2d-153a-450a-8df3-99ad271236dc",
   "metadata": {},
   "source": [
    "<div class=\"alert alert-block alert-info\"> <b> </b> \n",
    "</div>"
   ]
  },
  {
   "cell_type": "markdown",
   "id": "0ac14548-40f1-4425-bd8e-9cdc63aed1f4",
   "metadata": {},
   "source": [
    "# Fraud detection from transactions\n",
    "![](./images/workflow_fraud.PNG)"
   ]
  },
  {
   "cell_type": "markdown",
   "id": "c136d8db-b3c5-440d-89ff-c02d1be51cfa",
   "metadata": {},
   "source": [
    "<div class=\"alert alert-block alert-info\"> <b> </b> \n",
    "</div>"
   ]
  },
  {
   "cell_type": "markdown",
   "id": "6923b364-f50c-46f0-85f0-a0f9c5f749e7",
   "metadata": {},
   "source": [
    "## 1 - Connect to Vantage\n",
    "<div class=\"alert alert-block alert-info\"> <b> </b> \n",
    "</div>"
   ]
  },
  {
   "cell_type": "markdown",
   "id": "56a38ca9-f7e8-42b9-8af1-8e83028171be",
   "metadata": {},
   "source": [
    "![](./images/Slide32.PNG)"
   ]
  },
  {
   "cell_type": "code",
   "execution_count": 1,
   "id": "ded5c372-e05f-4bf0-8c5f-20bc05d592b2",
   "metadata": {
    "tags": []
   },
   "outputs": [],
   "source": [
    "import teradataml as tdml\n",
    "tdml.options.configure.byom_install_location = \"mldb\"\n",
    "tdml.display.print_sqlmr_query = False\n",
    "import getpass\n",
    "import json\n",
    "tdml.__version__\n",
    "from datetime import datetime\n",
    "tic = datetime.now()\n",
    "tdml.options.display\n",
    "import matplotlib.pyplot as plt"
   ]
  },
  {
   "cell_type": "code",
   "execution_count": 2,
   "id": "cf81dc52-bda3-4a7a-9e8e-35c4779f2909",
   "metadata": {
    "tags": []
   },
   "outputs": [
    {
     "data": {
      "text/plain": [
       "'17.20.00.04'"
      ]
     },
     "execution_count": 2,
     "metadata": {},
     "output_type": "execute_result"
    }
   ],
   "source": [
    "tdml.__version__"
   ]
  },
  {
   "cell_type": "code",
   "execution_count": 3,
   "id": "c7ba13b1-0b74-40c0-a8c5-bdf7ad85e6f3",
   "metadata": {
    "tags": []
   },
   "outputs": [
    {
     "name": "stderr",
     "output_type": "stream",
     "text": [
      "C:\\Users\\dm250067\\Anaconda3\\envs\\vantage39\\lib\\site-packages\\teradataml\\context\\context.py:480: TeradataMlRuntimeWarning: Warning: Password is URL encoded.\n",
      "  warnings.warn(\"Warning: Password is URL encoded.\", category=TeradataMlRuntimeWarning)\n"
     ]
    },
    {
     "data": {
      "text/plain": [
       "Engine(teradatasql://:***@tdprd3.td.teradata.com/?DATABASE=ADLDSD_CHURN&LOGDATA=%2A%2A%2A&LOGMECH=%2A%2A%2A&USER=DM250067)"
      ]
     },
     "execution_count": 3,
     "metadata": {},
     "output_type": "execute_result"
    }
   ],
   "source": [
    "Param = {\n",
    "    'host'          : 'tdprd2.td.teradata.com', \n",
    "    'user'          : 'dm250067', \n",
    "    'password'      : \"ENCRYPTED_PASSWORD(file:{},file:{})\".format ('../../PassKey.properties','../../EncPass.properties'), #getpass.getpass(), \n",
    "    'logmech'       : 'LDAP',\n",
    "    'database'      : 'ADLSLSEMEA_DEMO_BANKING',\n",
    "    'temp_database_name' : 'dm250067'\n",
    "    }\n",
    "\n",
    "Param = {\n",
    "    'host'          : 'tdprd3.td.teradata.com', \n",
    "    'user'          : 'dm250067', \n",
    "    'password'      : \"ENCRYPTED_PASSWORD(file:{},file:{})\".format ('../../PassKey.properties','../../EncPass.properties'), #getpass.getpass(), \n",
    "    'logmech'       : 'LDAP',\n",
    "    'database'      : 'ADLDSD_CHURN',\n",
    "    'temp_database_name' : 'dm250067'\n",
    "    }\n",
    "\n",
    "tdml.create_context(**Param)"
   ]
  },
  {
   "cell_type": "markdown",
   "id": "22474b07-002e-47f1-8a0e-56827b9a406e",
   "metadata": {},
   "source": [
    "<div class=\"alert alert-block alert-info\"> <b> </b> \n",
    "</div>"
   ]
  },
  {
   "cell_type": "markdown",
   "id": "4695ed20-8e6a-452f-9c32-a96b27304890",
   "metadata": {},
   "source": [
    "## 2 - Access to the data in S3"
   ]
  },
  {
   "cell_type": "markdown",
   "id": "0f40837b-7861-4ffc-885d-006cac9beb05",
   "metadata": {},
   "source": [
    "<div class=\"alert alert-block alert-info\"> <b> </b> \n",
    "</div>"
   ]
  },
  {
   "cell_type": "markdown",
   "id": "72d92306-4ee5-4b2f-a1ae-8ee02c11713b",
   "metadata": {},
   "source": [
    "![](./images/Slide33.PNG)"
   ]
  },
  {
   "cell_type": "code",
   "execution_count": 4,
   "id": "0d044d88-d4e1-42e5-9d9c-94396ca38b52",
   "metadata": {
    "tags": []
   },
   "outputs": [
    {
     "name": "stdout",
     "output_type": "stream",
     "text": [
      "CREATE MULTISET TABLE ADLDSD_CHURN.transactions ,FALLBACK ,\n",
      "     NO BEFORE JOURNAL,\n",
      "     NO AFTER JOURNAL,\n",
      "     CHECKSUM = DEFAULT,\n",
      "     DEFAULT MERGEBLOCKRATIO,\n",
      "     MAP = TD_MAP1\n",
      "     (\n",
      "      \"type\" VARCHAR(11) CHARACTER SET LATIN NOT CASESPECIFIC,\n",
      "      txn_id INTEGER,\n",
      "      step SMALLINT,\n",
      "      amount FLOAT,\n",
      "      nameOrig VARCHAR(17) CHARACTER SET LATIN NOT CASESPECIFIC,\n",
      "      oldbalanceOrig FLOAT,\n",
      "      newbalanceOrig FLOAT,\n",
      "      nameDest VARCHAR(16) CHARACTER SET LATIN NOT CASESPECIFIC,\n",
      "      oldbalanceDest FLOAT,\n",
      "      newbalanceDest FLOAT,\n",
      "      isFraud INTEGER,\n",
      "      isFlaggedFraud BYTEINT,\n",
      "      fold VARCHAR(1024) CHARACTER SET UNICODE NOT CASESPECIFIC)\n",
      "PRIMARY INDEX ( txn_id );\n"
     ]
    }
   ],
   "source": [
    "print(tdml.execute_sql(f\"SHOW TABLE {Param['database']}.transactions\").fetchall()[0][0].replace('\\r','\\n'))"
   ]
  },
  {
   "cell_type": "code",
   "execution_count": 5,
   "id": "e7e43818-719f-4d97-b8a3-a50e7562e0cb",
   "metadata": {
    "tags": []
   },
   "outputs": [
    {
     "data": {
      "text/html": [
       "<style type=\"text/css\">\n",
       "\ttable {border:ridge 5px;}\n",
       "\ttable td {border:inset 1px;}\n",
       "\ttable tr#HeaderRow {background-color:grey; color:white;}</style>\n",
       "<html><table>\n",
       "\t<tr id=\"HeaderRow\">\n",
       "\t\t<th>type</th>\n",
       "\t\t<th>txn_id</th>\n",
       "\t\t<th>step</th>\n",
       "\t\t<th>amount</th>\n",
       "\t\t<th>nameOrig</th>\n",
       "\t\t<th>oldbalanceOrig</th>\n",
       "\t\t<th>newbalanceOrig</th>\n",
       "\t\t<th>nameDest</th>\n",
       "\t\t<th>oldbalanceDest</th>\n",
       "\t\t<th>newbalanceDest</th>\n",
       "\t\t<th>isFraud</th>\n",
       "\t\t<th>isFlaggedFraud</th>\n",
       "\t\t<th>fold</th>\n",
       "\t</tr>\n",
       "\t<tr>\n",
       "\t\t<td>PAYMENT</td>\n",
       "\t\t<td>1591203</td>\n",
       "\t\t<td>331</td>\n",
       "\t\t<td>638.67</td>\n",
       "\t\t<td>C911592564</td>\n",
       "\t\t<td>0.0</td>\n",
       "\t\t<td>0.0</td>\n",
       "\t\t<td>M2004122455</td>\n",
       "\t\t<td>0.0</td>\n",
       "\t\t<td>0.0</td>\n",
       "\t\t<td>0</td>\n",
       "\t\t<td>0</td>\n",
       "\t\t<td>train</td>\n",
       "\t</tr>\n",
       "\t<tr>\n",
       "\t\t<td>PAYMENT</td>\n",
       "\t\t<td>15613105</td>\n",
       "\t\t<td>191</td>\n",
       "\t\t<td>1062.05</td>\n",
       "\t\t<td>C679236405</td>\n",
       "\t\t<td>13773.1</td>\n",
       "\t\t<td>12711.05</td>\n",
       "\t\t<td>M1067787043</td>\n",
       "\t\t<td>0.0</td>\n",
       "\t\t<td>0.0</td>\n",
       "\t\t<td>0</td>\n",
       "\t\t<td>0</td>\n",
       "\t\t<td>train</td>\n",
       "\t</tr>\n",
       "\t<tr>\n",
       "\t\t<td>PAYMENT</td>\n",
       "\t\t<td>11577949</td>\n",
       "\t\t<td>20</td>\n",
       "\t\t<td>14186.24</td>\n",
       "\t\t<td>C1617838015</td>\n",
       "\t\t<td>25910.0</td>\n",
       "\t\t<td>11723.76</td>\n",
       "\t\t<td>M2069233476</td>\n",
       "\t\t<td>0.0</td>\n",
       "\t\t<td>0.0</td>\n",
       "\t\t<td>0</td>\n",
       "\t\t<td>0</td>\n",
       "\t\t<td>test</td>\n",
       "\t</tr>\n",
       "\t<tr>\n",
       "\t\t<td>PAYMENT</td>\n",
       "\t\t<td>25599851</td>\n",
       "\t\t<td>399</td>\n",
       "\t\t<td>7166.69</td>\n",
       "\t\t<td>C128448921</td>\n",
       "\t\t<td>0.0</td>\n",
       "\t\t<td>0.0</td>\n",
       "\t\t<td>M360217065</td>\n",
       "\t\t<td>0.0</td>\n",
       "\t\t<td>0.0</td>\n",
       "\t\t<td>0</td>\n",
       "\t\t<td>0</td>\n",
       "\t\t<td>test</td>\n",
       "\t</tr>\n",
       "\t<tr>\n",
       "\t\t<td>PAYMENT</td>\n",
       "\t\t<td>30605867</td>\n",
       "\t\t<td>279</td>\n",
       "\t\t<td>16907.32</td>\n",
       "\t\t<td>C1511636986</td>\n",
       "\t\t<td>0.0</td>\n",
       "\t\t<td>0.0</td>\n",
       "\t\t<td>M1848925734</td>\n",
       "\t\t<td>0.0</td>\n",
       "\t\t<td>0.0</td>\n",
       "\t\t<td>0</td>\n",
       "\t\t<td>0</td>\n",
       "\t\t<td>test</td>\n",
       "\t</tr>\n",
       "\t<tr>\n",
       "\t\t<td>PAYMENT</td>\n",
       "\t\t<td>8598096</td>\n",
       "\t\t<td>328</td>\n",
       "\t\t<td>31006.12</td>\n",
       "\t\t<td>C33819418</td>\n",
       "\t\t<td>50136.11</td>\n",
       "\t\t<td>19129.98</td>\n",
       "\t\t<td>M473480222</td>\n",
       "\t\t<td>0.0</td>\n",
       "\t\t<td>0.0</td>\n",
       "\t\t<td>0</td>\n",
       "\t\t<td>0</td>\n",
       "\t\t<td>test</td>\n",
       "\t</tr>\n",
       "\t<tr>\n",
       "\t\t<td>CASH_OUT</td>\n",
       "\t\t<td>16583965</td>\n",
       "\t\t<td>328</td>\n",
       "\t\t<td>205045.72</td>\n",
       "\t\t<td>C1921200432</td>\n",
       "\t\t<td>99437.0</td>\n",
       "\t\t<td>0.0</td>\n",
       "\t\t<td>C1311611285</td>\n",
       "\t\t<td>821536.86</td>\n",
       "\t\t<td>1026582.58</td>\n",
       "\t\t<td>0</td>\n",
       "\t\t<td>0</td>\n",
       "\t\t<td>train</td>\n",
       "\t</tr>\n",
       "\t<tr>\n",
       "\t\t<td>PAYMENT</td>\n",
       "\t\t<td>24628991</td>\n",
       "\t\t<td>9</td>\n",
       "\t\t<td>8790.25</td>\n",
       "\t\t<td>C614717252</td>\n",
       "\t\t<td>0.0</td>\n",
       "\t\t<td>0.0</td>\n",
       "\t\t<td>M668667202</td>\n",
       "\t\t<td>0.0</td>\n",
       "\t\t<td>0.0</td>\n",
       "\t\t<td>0</td>\n",
       "\t\t<td>0</td>\n",
       "\t\t<td>test</td>\n",
       "\t</tr>\n",
       "\t<tr>\n",
       "\t\t<td>PAYMENT</td>\n",
       "\t\t<td>10607089</td>\n",
       "\t\t<td>297</td>\n",
       "\t\t<td>7118.82</td>\n",
       "\t\t<td>C881887893</td>\n",
       "\t\t<td>50520.0</td>\n",
       "\t\t<td>43401.18</td>\n",
       "\t\t<td>M1532860588</td>\n",
       "\t\t<td>0.0</td>\n",
       "\t\t<td>0.0</td>\n",
       "\t\t<td>0</td>\n",
       "\t\t<td>0</td>\n",
       "\t\t<td>test</td>\n",
       "\t</tr>\n",
       "\t<tr>\n",
       "\t\t<td>PAYMENT</td>\n",
       "\t\t<td>19622975</td>\n",
       "\t\t<td>302</td>\n",
       "\t\t<td>23922.27</td>\n",
       "\t\t<td>C872553056</td>\n",
       "\t\t<td>20543.0</td>\n",
       "\t\t<td>0.0</td>\n",
       "\t\t<td>M1875596235</td>\n",
       "\t\t<td>0.0</td>\n",
       "\t\t<td>0.0</td>\n",
       "\t\t<td>0</td>\n",
       "\t\t<td>0</td>\n",
       "\t\t<td>test</td>\n",
       "\t</tr>\n",
       "</table></html>"
      ],
      "text/plain": [
       "              type  step     amount     nameOrig  oldbalanceOrig  newbalanceOrig     nameDest  oldbalanceDest  newbalanceDest  isFraud  isFlaggedFraud   fold\n",
       "txn_id                                                                                                                                                       \n",
       "1602337   CASH_OUT   695  191678.13   C126762298            0.00            0.00  C1383559851      2731278.04      2922956.16        0               0  train\n",
       "12582680   CASH_IN   179  233284.30  C1767488419     21034680.44     21267964.74   C972679852      1925595.73      1692311.43        0               0   test\n",
       "26604582  CASH_OUT   403  185176.21  C1322759923        12919.00            0.00   C397644706      3819558.13      4004734.34        0               0   test\n",
       "8606681    CASH_IN   204    7260.50  C1007260581        51475.00        58735.50   C474792141      5053617.04      5046356.54        0               0  train\n",
       "4596811    PAYMENT   264   18214.77  C1277739509        64878.31        46663.54  M1473267971            0.00            0.00        0               0  train\n",
       "7630254    CASH_IN   286  125932.26   C436645889        50418.00       176350.26   C791660340            0.00            0.00        0               0   test\n",
       "13612697  CASH_OUT    13   67888.23   C493247833            0.00            0.00  C1593029711       134715.89       202604.12        0               0  train\n",
       "15624239   CASH_IN   300   30984.71   C658838723      9751390.54      9782375.26   C315648413      4937659.68      4906674.96        0               0  train\n",
       "10618223  CASH_OUT    42  262930.48   C854770766        11500.00            0.00  C1428858685      1245732.60      1508663.08        0               0  train\n",
       "19634109   CASH_IN    35  253187.24   C510940069     10956582.81     11209770.05   C253043086      7334212.62      7081025.38        0               0  train"
      ]
     },
     "execution_count": 5,
     "metadata": {},
     "output_type": "execute_result"
    }
   ],
   "source": [
    "data_in_vantage = tdml.DataFrame(tdml.in_schema(Param['database'], 'transactions'))\n",
    "data_in_vantage"
   ]
  },
  {
   "cell_type": "code",
   "execution_count": 6,
   "id": "b41569c0-3a1b-4100-89b5-ce864f5c2b62",
   "metadata": {
    "tags": []
   },
   "outputs": [
    {
     "name": "stdout",
     "output_type": "stream",
     "text": [
      "             type  step    amount     nameOrig  oldbalanceOrig  newbalanceOrig     nameDest  oldbalanceDest  newbalanceDest  isFraud  isFlaggedFraud  fold\n",
      "txn_id                                                                                                                                                    \n",
      "39636260  PAYMENT   213  30747.84  C1024145513            0.00            0.00   M912540236            0.00            0.00        0               0  test\n",
      "39636259  CASH_IN   162  50526.30  C1008380691        10812.00        61338.30  C2036571882       566444.10       515917.80        0               0  test\n",
      "39636258  CASH_IN   330  35150.54  C1434060405      2309839.84      2344990.38   C196157469       194034.48       158883.94        0               0  test\n",
      "39636256  PAYMENT     7  14093.90  C1335472383            0.00            0.00   M531832315            0.00            0.00        0               0  test\n",
      "39636254  PAYMENT   401  51597.53  C1347097118        25605.00            0.00  M1035015676            0.00            0.00        0               0  test\n",
      "39636253  PAYMENT   257    517.29  C1855392376            0.00            0.00   M699885115            0.00            0.00        0               0  test\n",
      "39636251  CASH_IN    17    740.60  C1304323456       579794.12       580534.72    C75177526        16503.66        15763.05        0               0  test\n",
      "39636247  PAYMENT    17  25856.89  C1333878305          684.00            0.00  M1240526612            0.00            0.00        0               0  test\n",
      "39636246  CASH_IN   331  45640.40   C534960951        29873.00        75513.40  C1090195087            0.00            0.00        0               0  test\n",
      "39636245  PAYMENT     9  13221.23  C1066806788        20664.00         7442.77   M899988877            0.00            0.00        0               0  test\n",
      "CPU times: total: 406 ms\n",
      "Wall time: 724 ms\n"
     ]
    }
   ],
   "source": [
    "%%time\n",
    "print(data_in_vantage.sort('txn_id',ascending=False))"
   ]
  },
  {
   "cell_type": "code",
   "execution_count": 7,
   "id": "d1f90866-6188-4523-a6c6-fa346eb72ec1",
   "metadata": {
    "tags": []
   },
   "outputs": [
    {
     "name": "stdout",
     "output_type": "stream",
     "text": [
      "              type  step      amount     nameOrig  oldbalanceOrig  newbalanceOrig     nameDest  oldbalanceDest  newbalanceDest  isFraud  isFlaggedFraud   fold\n",
      "txn_id                                                                                                                                                        \n",
      "37595619  TRANSFER   136   460471.12   C701372857        36639.00            0.00   C292517117            0.00       460471.12        0               0   test\n",
      "34623617  TRANSFER    19   196378.61   C827636631            0.00            0.00   C609610072       696285.18       892663.79        0               0   test\n",
      "17599798  TRANSFER   131  1422343.12  C1024688446         8306.00            0.00   C242619213      1697571.42      3119914.54        0               0  train\n",
      "22585626  TRANSFER   303  2424106.26   C269008577            0.00            0.00   C174750360      7816098.96     10240205.22        0               0   test\n",
      "11582077  TRANSFER   687   326174.76  C1169787053            0.00            0.00   C882351180       373422.56       699597.32        0               0  train\n",
      "18581996  TRANSFER   692    45434.78   C785748220        17790.82            0.00    C63309558       284781.31       330216.09        0               0   test\n",
      "9596963   TRANSFER   403   623332.63   C392339514       207390.00            0.00  C1591097896     13668240.99     14291573.62        0               0  train\n",
      "13594292  TRANSFER   283   439647.53   C939248913        11633.00            0.00   C570604691        26586.10       466233.63        0               0   test\n",
      "20580997  TRANSFER   231   332836.68   C806615210            0.00            0.00   C808681689       785346.28      1118182.96        0               0   test\n",
      "3631425   TRANSFER   692    35947.31  C1193357540        80831.00        44883.69   C548976984        40712.48        76659.80        0               0  train\n",
      "CPU times: total: 31.2 ms\n",
      "Wall time: 451 ms\n"
     ]
    }
   ],
   "source": [
    "%%time\n",
    "print(data_in_vantage.sort('type',ascending=False))"
   ]
  },
  {
   "cell_type": "code",
   "execution_count": 8,
   "id": "bc431525-b730-4625-add7-ba2ba2d7357d",
   "metadata": {
    "tags": []
   },
   "outputs": [
    {
     "data": {
      "text/plain": [
       "['type',\n",
       " 'txn_id',\n",
       " 'step',\n",
       " 'amount',\n",
       " 'nameOrig',\n",
       " 'oldbalanceOrig',\n",
       " 'newbalanceOrig',\n",
       " 'nameDest',\n",
       " 'oldbalanceDest',\n",
       " 'newbalanceDest',\n",
       " 'isFraud',\n",
       " 'isFlaggedFraud',\n",
       " 'fold']"
      ]
     },
     "execution_count": 8,
     "metadata": {},
     "output_type": "execute_result"
    }
   ],
   "source": [
    "data_in_vantage.columns"
   ]
  },
  {
   "cell_type": "code",
   "execution_count": 9,
   "id": "5a7a4bac-3543-432a-a122-2701fa3e8b57",
   "metadata": {
    "tags": []
   },
   "outputs": [
    {
     "data": {
      "text/html": [
       "<style type=\"text/css\">\n",
       "                                table {border:ridge 5px;}\n",
       "                                table td {border:inset 1px;}\n",
       "                                table tr#HeaderRow {background-color:grey; color:white;}\n",
       "                               </style>\n",
       "                               <html>\n",
       "                                  <table>\n",
       "                                    <tr id=\"HeaderRow\">\n",
       "                                        <th>COLUMN NAME</th>\n",
       "                                        <th>TYPE</th>\n",
       "                                    </tr>\n",
       "                                    <tr><td>type</td><td>VARCHAR(length=11, charset='LATIN')</td></tr>\n",
       "<tr><td>txn_id</td><td>INTEGER()</td></tr>\n",
       "<tr><td>step</td><td>SMALLINT()</td></tr>\n",
       "<tr><td>amount</td><td>FLOAT()</td></tr>\n",
       "<tr><td>nameOrig</td><td>VARCHAR(length=17, charset='LATIN')</td></tr>\n",
       "<tr><td>oldbalanceOrig</td><td>FLOAT()</td></tr>\n",
       "<tr><td>newbalanceOrig</td><td>FLOAT()</td></tr>\n",
       "<tr><td>nameDest</td><td>VARCHAR(length=16, charset='LATIN')</td></tr>\n",
       "<tr><td>oldbalanceDest</td><td>FLOAT()</td></tr>\n",
       "<tr><td>newbalanceDest</td><td>FLOAT()</td></tr>\n",
       "<tr><td>isFraud</td><td>INTEGER()</td></tr>\n",
       "<tr><td>isFlaggedFraud</td><td>BYTEINT()</td></tr>\n",
       "<tr><td>fold</td><td>VARCHAR(length=1024, charset='UNICODE')</td></tr>\n",
       "                                  </table>\n",
       "                               </html>\n",
       "                            "
      ],
      "text/plain": [
       "type                  VARCHAR(length=11, charset='LATIN')\n",
       "txn_id                                          INTEGER()\n",
       "step                                           SMALLINT()\n",
       "amount                                            FLOAT()\n",
       "nameOrig              VARCHAR(length=17, charset='LATIN')\n",
       "oldbalanceOrig                                    FLOAT()\n",
       "newbalanceOrig                                    FLOAT()\n",
       "nameDest              VARCHAR(length=16, charset='LATIN')\n",
       "oldbalanceDest                                    FLOAT()\n",
       "newbalanceDest                                    FLOAT()\n",
       "isFraud                                         INTEGER()\n",
       "isFlaggedFraud                                  BYTEINT()\n",
       "fold              VARCHAR(length=1024, charset='UNICODE')"
      ]
     },
     "execution_count": 9,
     "metadata": {},
     "output_type": "execute_result"
    }
   ],
   "source": [
    "data_in_vantage.tdtypes"
   ]
  },
  {
   "cell_type": "code",
   "execution_count": 10,
   "id": "027e2279-b004-4f81-bdaa-1d17751d71c3",
   "metadata": {
    "tags": []
   },
   "outputs": [
    {
     "data": {
      "text/plain": [
       "0    TRANSFER\n",
       "1       DEBIT\n",
       "2     PAYMENT\n",
       "3    CASH_OUT\n",
       "4     CASH_IN\n",
       "Name: type, dtype: object"
      ]
     },
     "execution_count": 10,
     "metadata": {},
     "output_type": "execute_result"
    }
   ],
   "source": [
    "data_in_vantage[['type']].squeeze(axis = 1).unique()"
   ]
  },
  {
   "cell_type": "code",
   "execution_count": 11,
   "id": "5fce7fbe-b7e0-4850-9192-6f19d4285877",
   "metadata": {
    "tags": []
   },
   "outputs": [
    {
     "data": {
      "text/html": [
       "<style type=\"text/css\">\n",
       "\ttable {border:ridge 5px;}\n",
       "\ttable td {border:inset 1px;}\n",
       "\ttable tr#HeaderRow {background-color:grey; color:white;}</style>\n",
       "<html><table>\n",
       "\t<tr id=\"HeaderRow\">\n",
       "\t\t<th>fold</th>\n",
       "\t\t<th>type</th>\n",
       "\t\t<th>count_txn_id</th>\n",
       "\t</tr>\n",
       "\t<tr>\n",
       "\t\t<td>test</td>\n",
       "\t\t<td>PAYMENT</td>\n",
       "\t\t<td>409960</td>\n",
       "\t</tr>\n",
       "\t<tr>\n",
       "\t\t<td>test</td>\n",
       "\t\t<td>DEBIT</td>\n",
       "\t\t<td>7680</td>\n",
       "\t</tr>\n",
       "\t<tr>\n",
       "\t\t<td>train</td>\n",
       "\t\t<td>DEBIT</td>\n",
       "\t\t<td>3900</td>\n",
       "\t</tr>\n",
       "\t<tr>\n",
       "\t\t<td>train</td>\n",
       "\t\t<td>CASH_IN</td>\n",
       "\t\t<td>131080</td>\n",
       "\t</tr>\n",
       "\t<tr>\n",
       "\t\t<td>test</td>\n",
       "\t\t<td>TRANSFER</td>\n",
       "\t\t<td>100360</td>\n",
       "\t</tr>\n",
       "\t<tr>\n",
       "\t\t<td>test</td>\n",
       "\t\t<td>CASH_OUT</td>\n",
       "\t\t<td>418480</td>\n",
       "\t</tr>\n",
       "\t<tr>\n",
       "\t\t<td>train</td>\n",
       "\t\t<td>TRANSFER</td>\n",
       "\t\t<td>50720</td>\n",
       "\t</tr>\n",
       "\t<tr>\n",
       "\t\t<td>test</td>\n",
       "\t\t<td>CASH_IN</td>\n",
       "\t\t<td>263520</td>\n",
       "\t</tr>\n",
       "\t<tr>\n",
       "\t\t<td>train</td>\n",
       "\t\t<td>CASH_OUT</td>\n",
       "\t\t<td>209920</td>\n",
       "\t</tr>\n",
       "\t<tr>\n",
       "\t\t<td>train</td>\n",
       "\t\t<td>PAYMENT</td>\n",
       "\t\t<td>204380</td>\n",
       "\t</tr>\n",
       "</table></html>"
      ],
      "text/plain": [
       "    fold      type  count_txn_id\n",
       "0   test   PAYMENT        409960\n",
       "1  train     DEBIT          3900\n",
       "2   test   CASH_IN        263520\n",
       "3  train  TRANSFER         50720\n",
       "4   test  TRANSFER        100360\n",
       "5  train   CASH_IN        131080\n",
       "6   test  CASH_OUT        418480\n",
       "7   test     DEBIT          7680\n",
       "8  train  CASH_OUT        209920\n",
       "9  train   PAYMENT        204380"
      ]
     },
     "execution_count": 11,
     "metadata": {},
     "output_type": "execute_result"
    }
   ],
   "source": [
    "data_in_vantage[['fold','type','txn_id']].groupby(['fold','type']).count()"
   ]
  },
  {
   "cell_type": "code",
   "execution_count": 12,
   "id": "6c527f09-23ab-4963-8c3f-bafa0c5a05db",
   "metadata": {
    "tags": []
   },
   "outputs": [
    {
     "data": {
      "text/plain": [
       "['CASH_IN', 'CASH_OUT', 'TRANSFER', 'PAYMENT', 'DEBIT']"
      ]
     },
     "execution_count": 12,
     "metadata": {},
     "output_type": "execute_result"
    }
   ],
   "source": [
    "transaction_types = list(data_in_vantage[['type','txn_id']].groupby(['type']).count().to_pandas()['type'].values)\n",
    "transaction_types"
   ]
  },
  {
   "cell_type": "markdown",
   "id": "897f2f28-d5e5-4ec5-8eea-73bcae6b6022",
   "metadata": {},
   "source": [
    "<div class=\"alert alert-block alert-info\"> <b> </b> \n",
    "</div>"
   ]
  },
  {
   "cell_type": "markdown",
   "id": "1cb4eb26-bb7a-4815-ab8c-05a54a1faea0",
   "metadata": {},
   "source": [
    "## 3 - Machine Learning Pipeline Training"
   ]
  },
  {
   "cell_type": "markdown",
   "id": "64806a5d-9152-497f-ad26-a8155f75d6a5",
   "metadata": {},
   "source": [
    "<div class=\"alert alert-block alert-info\"> <b> </b> \n",
    "</div>"
   ]
  },
  {
   "cell_type": "code",
   "execution_count": 13,
   "id": "cbba8603-ac63-464c-b0df-1dcfa4b6692a",
   "metadata": {
    "tags": []
   },
   "outputs": [],
   "source": [
    "data_in_vantage_training = data_in_vantage[data_in_vantage.fold == 'train']\n",
    "data_in_vantage_test     = data_in_vantage[data_in_vantage.fold == 'test']"
   ]
  },
  {
   "cell_type": "code",
   "execution_count": 14,
   "id": "2262f56f-8f3f-4a6d-bd18-c9a79f6b08ff",
   "metadata": {
    "tags": []
   },
   "outputs": [
    {
     "name": "stdout",
     "output_type": "stream",
     "text": [
      "data_in_vantage_training.shape : (600000, 13)\n",
      "data_in_vantage_test.shape : (1200000, 13)\n"
     ]
    }
   ],
   "source": [
    "print('data_in_vantage_training.shape :', data_in_vantage_training.shape)\n",
    "print('data_in_vantage_test.shape :', data_in_vantage_test.shape)"
   ]
  },
  {
   "cell_type": "markdown",
   "id": "732acf0d-63c5-4770-be3d-3e2d59fcb77b",
   "metadata": {},
   "source": [
    "### 3.1 - OneHotEncoding of categorical variable \"type\""
   ]
  },
  {
   "cell_type": "markdown",
   "id": "52374115-f432-470d-9c71-ff3bcafbad00",
   "metadata": {},
   "source": [
    "![](./images/Slide34.PNG)"
   ]
  },
  {
   "cell_type": "markdown",
   "id": "f50b2a5f-56c1-4282-b335-f3abbbc67576",
   "metadata": {},
   "source": [
    "![](./images/Slide41.PNG)"
   ]
  },
  {
   "cell_type": "code",
   "execution_count": 15,
   "id": "f8617bbc-f155-43be-ab7c-d013f99ae3c2",
   "metadata": {
    "tags": []
   },
   "outputs": [
    {
     "data": {
      "text/plain": [
       "['CASH_IN', 'CASH_OUT', 'TRANSFER', 'PAYMENT', 'DEBIT']"
      ]
     },
     "execution_count": 15,
     "metadata": {},
     "output_type": "execute_result"
    }
   ],
   "source": [
    "transaction_types"
   ]
  },
  {
   "cell_type": "code",
   "execution_count": 16,
   "id": "86c60e0c-4f7d-4614-816f-9a5ed8fe8d93",
   "metadata": {
    "tags": []
   },
   "outputs": [],
   "source": [
    "fit_obj = tdml.OneHotEncodingFit(data = data_in_vantage_training,\n",
    "                            is_input_dense=True,\n",
    "                            target_column='\"type\"',\n",
    "                            categorical_values=transaction_types,\n",
    "                            other_column=\"other\")"
   ]
  },
  {
   "cell_type": "code",
   "execution_count": 17,
   "id": "20ac12e7-0c4a-4755-82b6-5852d4f771ab",
   "metadata": {
    "tags": []
   },
   "outputs": [
    {
     "data": {
      "text/html": [
       "<style type=\"text/css\">\n",
       "\ttable {border:ridge 5px;}\n",
       "\ttable td {border:inset 1px;}\n",
       "\ttable tr#HeaderRow {background-color:grey; color:white;}</style>\n",
       "<html><table>\n",
       "\t<tr id=\"HeaderRow\">\n",
       "\t\t<th>type_CASH_IN</th>\n",
       "\t\t<th>type_CASH_OUT</th>\n",
       "\t\t<th>type_TRANSFER</th>\n",
       "\t\t<th>type_PAYMENT</th>\n",
       "\t\t<th>type_DEBIT</th>\n",
       "\t\t<th>type_other</th>\n",
       "\t\t<th>txn_id</th>\n",
       "\t\t<th>step</th>\n",
       "\t\t<th>amount</th>\n",
       "\t\t<th>nameOrig</th>\n",
       "\t\t<th>oldbalanceOrig</th>\n",
       "\t\t<th>newbalanceOrig</th>\n",
       "\t\t<th>nameDest</th>\n",
       "\t\t<th>oldbalanceDest</th>\n",
       "\t\t<th>newbalanceDest</th>\n",
       "\t\t<th>isFraud</th>\n",
       "\t\t<th>isFlaggedFraud</th>\n",
       "\t\t<th>fold</th>\n",
       "\t</tr>\n",
       "\t<tr>\n",
       "\t\t<td>0</td>\n",
       "\t\t<td>0</td>\n",
       "\t\t<td>1</td>\n",
       "\t\t<td>0</td>\n",
       "\t\t<td>0</td>\n",
       "\t\t<td>0</td>\n",
       "\t\t<td>6612309</td>\n",
       "\t\t<td>131</td>\n",
       "\t\t<td>600401.99</td>\n",
       "\t\t<td>C228384493</td>\n",
       "\t\t<td>42097.0</td>\n",
       "\t\t<td>0.0</td>\n",
       "\t\t<td>C1848088955</td>\n",
       "\t\t<td>0.0</td>\n",
       "\t\t<td>600401.99</td>\n",
       "\t\t<td>0</td>\n",
       "\t\t<td>0</td>\n",
       "\t\t<td>train</td>\n",
       "\t</tr>\n",
       "\t<tr>\n",
       "\t\t<td>0</td>\n",
       "\t\t<td>1</td>\n",
       "\t\t<td>0</td>\n",
       "\t\t<td>0</td>\n",
       "\t\t<td>0</td>\n",
       "\t\t<td>0</td>\n",
       "\t\t<td>7625156</td>\n",
       "\t\t<td>406</td>\n",
       "\t\t<td>164107.97</td>\n",
       "\t\t<td>C1282992478</td>\n",
       "\t\t<td>51192.63</td>\n",
       "\t\t<td>0.0</td>\n",
       "\t\t<td>C571118141</td>\n",
       "\t\t<td>249794.07</td>\n",
       "\t\t<td>413902.04</td>\n",
       "\t\t<td>0</td>\n",
       "\t\t<td>0</td>\n",
       "\t\t<td>train</td>\n",
       "\t</tr>\n",
       "\t<tr>\n",
       "\t\t<td>0</td>\n",
       "\t\t<td>0</td>\n",
       "\t\t<td>1</td>\n",
       "\t\t<td>0</td>\n",
       "\t\t<td>0</td>\n",
       "\t\t<td>0</td>\n",
       "\t\t<td>8626869</td>\n",
       "\t\t<td>129</td>\n",
       "\t\t<td>12796.07</td>\n",
       "\t\t<td>C2143889275</td>\n",
       "\t\t<td>0.0</td>\n",
       "\t\t<td>0.0</td>\n",
       "\t\t<td>C700379447</td>\n",
       "\t\t<td>124207.69</td>\n",
       "\t\t<td>137003.76</td>\n",
       "\t\t<td>0</td>\n",
       "\t\t<td>0</td>\n",
       "\t\t<td>train</td>\n",
       "\t</tr>\n",
       "\t<tr>\n",
       "\t\t<td>1</td>\n",
       "\t\t<td>0</td>\n",
       "\t\t<td>0</td>\n",
       "\t\t<td>0</td>\n",
       "\t\t<td>0</td>\n",
       "\t\t<td>0</td>\n",
       "\t\t<td>7614022</td>\n",
       "\t\t<td>308</td>\n",
       "\t\t<td>100736.13</td>\n",
       "\t\t<td>C1263108299</td>\n",
       "\t\t<td>7727042.44</td>\n",
       "\t\t<td>7827778.57</td>\n",
       "\t\t<td>C1059922140</td>\n",
       "\t\t<td>1602341.58</td>\n",
       "\t\t<td>1501605.45</td>\n",
       "\t\t<td>0</td>\n",
       "\t\t<td>0</td>\n",
       "\t\t<td>train</td>\n",
       "\t</tr>\n",
       "\t<tr>\n",
       "\t\t<td>0</td>\n",
       "\t\t<td>0</td>\n",
       "\t\t<td>0</td>\n",
       "\t\t<td>1</td>\n",
       "\t\t<td>0</td>\n",
       "\t\t<td>0</td>\n",
       "\t\t<td>4591713</td>\n",
       "\t\t<td>404</td>\n",
       "\t\t<td>5574.54</td>\n",
       "\t\t<td>C285399846</td>\n",
       "\t\t<td>196.0</td>\n",
       "\t\t<td>0.0</td>\n",
       "\t\t<td>M637722727</td>\n",
       "\t\t<td>0.0</td>\n",
       "\t\t<td>0.0</td>\n",
       "\t\t<td>0</td>\n",
       "\t\t<td>0</td>\n",
       "\t\t<td>train</td>\n",
       "\t</tr>\n",
       "\t<tr>\n",
       "\t\t<td>0</td>\n",
       "\t\t<td>0</td>\n",
       "\t\t<td>0</td>\n",
       "\t\t<td>1</td>\n",
       "\t\t<td>0</td>\n",
       "\t\t<td>0</td>\n",
       "\t\t<td>3581415</td>\n",
       "\t\t<td>354</td>\n",
       "\t\t<td>6543.81</td>\n",
       "\t\t<td>C23038280</td>\n",
       "\t\t<td>0.0</td>\n",
       "\t\t<td>0.0</td>\n",
       "\t\t<td>M1624168387</td>\n",
       "\t\t<td>0.0</td>\n",
       "\t\t<td>0.0</td>\n",
       "\t\t<td>0</td>\n",
       "\t\t<td>0</td>\n",
       "\t\t<td>train</td>\n",
       "\t</tr>\n",
       "\t<tr>\n",
       "\t\t<td>0</td>\n",
       "\t\t<td>1</td>\n",
       "\t\t<td>0</td>\n",
       "\t\t<td>0</td>\n",
       "\t\t<td>0</td>\n",
       "\t\t<td>0</td>\n",
       "\t\t<td>1634128</td>\n",
       "\t\t<td>130</td>\n",
       "\t\t<td>108881.67</td>\n",
       "\t\t<td>C1739539604</td>\n",
       "\t\t<td>21267.0</td>\n",
       "\t\t<td>0.0</td>\n",
       "\t\t<td>C1378174410</td>\n",
       "\t\t<td>0.0</td>\n",
       "\t\t<td>108881.67</td>\n",
       "\t\t<td>0</td>\n",
       "\t\t<td>0</td>\n",
       "\t\t<td>train</td>\n",
       "\t</tr>\n",
       "\t<tr>\n",
       "\t\t<td>0</td>\n",
       "\t\t<td>0</td>\n",
       "\t\t<td>1</td>\n",
       "\t\t<td>0</td>\n",
       "\t\t<td>0</td>\n",
       "\t\t<td>0</td>\n",
       "\t\t<td>15577154</td>\n",
       "\t\t<td>393</td>\n",
       "\t\t<td>432958.83</td>\n",
       "\t\t<td>C1282477979</td>\n",
       "\t\t<td>432958.83</td>\n",
       "\t\t<td>0.0</td>\n",
       "\t\t<td>C1783092125</td>\n",
       "\t\t<td>0.0</td>\n",
       "\t\t<td>0.0</td>\n",
       "\t\t<td>1</td>\n",
       "\t\t<td>0</td>\n",
       "\t\t<td>train</td>\n",
       "\t</tr>\n",
       "\t<tr>\n",
       "\t\t<td>0</td>\n",
       "\t\t<td>1</td>\n",
       "\t\t<td>0</td>\n",
       "\t\t<td>0</td>\n",
       "\t\t<td>0</td>\n",
       "\t\t<td>0</td>\n",
       "\t\t<td>8604132</td>\n",
       "\t\t<td>286</td>\n",
       "\t\t<td>269050.49</td>\n",
       "\t\t<td>C950612549</td>\n",
       "\t\t<td>0.0</td>\n",
       "\t\t<td>0.0</td>\n",
       "\t\t<td>C1579001225</td>\n",
       "\t\t<td>4221441.44</td>\n",
       "\t\t<td>4490491.92</td>\n",
       "\t\t<td>0</td>\n",
       "\t\t<td>0</td>\n",
       "\t\t<td>train</td>\n",
       "\t</tr>\n",
       "\t<tr>\n",
       "\t\t<td>0</td>\n",
       "\t\t<td>1</td>\n",
       "\t\t<td>0</td>\n",
       "\t\t<td>0</td>\n",
       "\t\t<td>0</td>\n",
       "\t\t<td>0</td>\n",
       "\t\t<td>19581457</td>\n",
       "\t\t<td>230</td>\n",
       "\t\t<td>40980.28</td>\n",
       "\t\t<td>C1283900774</td>\n",
       "\t\t<td>0.0</td>\n",
       "\t\t<td>0.0</td>\n",
       "\t\t<td>C313773084</td>\n",
       "\t\t<td>72187.68</td>\n",
       "\t\t<td>113167.96</td>\n",
       "\t\t<td>0</td>\n",
       "\t\t<td>0</td>\n",
       "\t\t<td>train</td>\n",
       "\t</tr>\n",
       "</table></html>"
      ],
      "text/plain": [
       "   type_CASH_IN  type_CASH_OUT  type_TRANSFER  type_PAYMENT  type_DEBIT  type_other    txn_id  step     amount     nameOrig  oldbalanceOrig  newbalanceOrig     nameDest  oldbalanceDest  newbalanceDest  isFraud  isFlaggedFraud   fold\n",
       "0             0              1              0             0           0           0  15580172   254  146569.49   C186743901       202479.00        55909.51  C1014533306       986690.88      1133260.37        0               0  train\n",
       "1             0              0              0             1           0           0  19590042    14    5499.25  C1031224769            0.00            0.00  M1825543655            0.00            0.00        0               0  train\n",
       "2             0              1              0             0           0           0   1634128   130  108881.67  C1739539604        21267.00            0.00  C1378174410            0.00       108881.67        0               0  train\n",
       "3             0              0              0             1           0           0  16581885   130    2585.67   C632765607            0.00            0.00  M1891561290            0.00            0.00        0               0  train\n",
       "4             0              1              0             0           0           0   7625156   406  164107.97  C1282992478        51192.63            0.00   C571118141       249794.07       413902.04        0               0  train\n",
       "5             0              0              0             1           0           0  12591734   262     371.86  C1527258846         3574.75         3202.89   M448745824            0.00            0.00        0               0  train\n",
       "6             0              0              0             1           0           0  10624728   188    3128.29   C428507189            0.00            0.00  M2112139253            0.00            0.00        0               0  train\n",
       "7             0              1              0             0           0           0  19581457   230   40980.28  C1283900774            0.00            0.00   C313773084        72187.68       113167.96        0               0  train\n",
       "8             0              1              0             0           0           0  14617428   158  346667.75   C798471525        21644.00            0.00  C1083694367      2977806.83      3324474.58        0               0  train\n",
       "9             0              0              0             1           0           0   3581415   354    6543.81    C23038280            0.00            0.00  M1624168387            0.00            0.00        0               0  train"
      ]
     },
     "execution_count": 17,
     "metadata": {},
     "output_type": "execute_result"
    }
   ],
   "source": [
    "obj = tdml.OneHotEncodingTransform(data=data_in_vantage_training,\n",
    "                              object=fit_obj.result,\n",
    "                              is_input_dense=True)\n",
    "obj.result"
   ]
  },
  {
   "cell_type": "code",
   "execution_count": 18,
   "id": "897fcde6-be3d-4fef-bb85-cc414c319e6d",
   "metadata": {
    "tags": []
   },
   "outputs": [
    {
     "data": {
      "text/html": [
       "<style type=\"text/css\">\n",
       "\ttable {border:ridge 5px;}\n",
       "\ttable td {border:inset 1px;}\n",
       "\ttable tr#HeaderRow {background-color:grey; color:white;}</style>\n",
       "<html><table>\n",
       "\t<tr id=\"HeaderRow\">\n",
       "\t\t<th>max_type_CASH_IN</th>\n",
       "\t\t<th>max_type_CASH_OUT</th>\n",
       "\t\t<th>max_type_TRANSFER</th>\n",
       "\t\t<th>max_type_PAYMENT</th>\n",
       "\t\t<th>max_type_DEBIT</th>\n",
       "\t\t<th>max_type_other</th>\n",
       "\t\t<th>max_txn_id</th>\n",
       "\t\t<th>max_step</th>\n",
       "\t\t<th>max_amount</th>\n",
       "\t\t<th>max_nameOrig</th>\n",
       "\t\t<th>max_oldbalanceOrig</th>\n",
       "\t\t<th>max_newbalanceOrig</th>\n",
       "\t\t<th>max_nameDest</th>\n",
       "\t\t<th>max_oldbalanceDest</th>\n",
       "\t\t<th>max_newbalanceDest</th>\n",
       "\t\t<th>max_isFraud</th>\n",
       "\t\t<th>max_isFlaggedFraud</th>\n",
       "\t\t<th>max_fold</th>\n",
       "\t</tr>\n",
       "\t<tr>\n",
       "\t\t<td>1</td>\n",
       "\t\t<td>1</td>\n",
       "\t\t<td>1</td>\n",
       "\t\t<td>1</td>\n",
       "\t\t<td>1</td>\n",
       "\t\t<td>0</td>\n",
       "\t\t<td>19636261</td>\n",
       "\t\t<td>740</td>\n",
       "\t\t<td>36012019.81</td>\n",
       "\t\t<td>C999978091</td>\n",
       "\t\t<td>33593209.9</td>\n",
       "\t\t<td>33748554.09</td>\n",
       "\t\t<td>M999930866</td>\n",
       "\t\t<td>174582899.7</td>\n",
       "\t\t<td>174743742.6</td>\n",
       "\t\t<td>1</td>\n",
       "\t\t<td>0</td>\n",
       "\t\t<td>train</td>\n",
       "\t</tr>\n",
       "</table></html>"
      ],
      "text/plain": [
       "   max_type_CASH_IN  max_type_CASH_OUT  max_type_TRANSFER  max_type_PAYMENT  max_type_DEBIT  max_type_other  max_txn_id  max_step   max_amount max_nameOrig  max_oldbalanceOrig  max_newbalanceOrig max_nameDest  max_oldbalanceDest  max_newbalanceDest  max_isFraud  max_isFlaggedFraud max_fold\n",
       "0                 1                  1                  1                 1               1               0    19636261       740  36012019.81   C999978091          33593209.9         33748554.09   M999930866         174582899.7         174743742.6            1                   0    train"
      ]
     },
     "execution_count": 18,
     "metadata": {},
     "output_type": "execute_result"
    }
   ],
   "source": [
    "obj.result.max()"
   ]
  },
  {
   "cell_type": "code",
   "execution_count": 19,
   "id": "3ad1ec34-e2ba-4474-af3f-07a1f6f11549",
   "metadata": {
    "tags": []
   },
   "outputs": [],
   "source": [
    "features  = ['amount', 'oldbalanceOrig', 'newbalanceOrig', 'oldbalanceDest', 'newbalanceDest', 'type_CASH_OUT', 'type_PAYMENT', 'type_CASH_IN', 'type_TRANSFER']\n",
    "target    = 'isFraud'\n",
    "id_column = 'txn_id'"
   ]
  },
  {
   "cell_type": "code",
   "execution_count": 20,
   "id": "eebb06cc-98f8-4f30-b3fa-e05491f37fc7",
   "metadata": {
    "tags": []
   },
   "outputs": [
    {
     "data": {
      "text/html": [
       "<style type=\"text/css\">\n",
       "\ttable {border:ridge 5px;}\n",
       "\ttable td {border:inset 1px;}\n",
       "\ttable tr#HeaderRow {background-color:grey; color:white;}</style>\n",
       "<html><table>\n",
       "\t<tr id=\"HeaderRow\">\n",
       "\t\t<th>txn_id</th>\n",
       "\t\t<th>amount</th>\n",
       "\t\t<th>oldbalanceOrig</th>\n",
       "\t\t<th>newbalanceOrig</th>\n",
       "\t\t<th>oldbalanceDest</th>\n",
       "\t\t<th>newbalanceDest</th>\n",
       "\t\t<th>type_CASH_OUT</th>\n",
       "\t\t<th>type_PAYMENT</th>\n",
       "\t\t<th>type_CASH_IN</th>\n",
       "\t\t<th>type_TRANSFER</th>\n",
       "\t\t<th>isFraud</th>\n",
       "\t</tr>\n",
       "\t<tr>\n",
       "\t\t<td>19590042</td>\n",
       "\t\t<td>5499.25</td>\n",
       "\t\t<td>0.0</td>\n",
       "\t\t<td>0.0</td>\n",
       "\t\t<td>0.0</td>\n",
       "\t\t<td>0.0</td>\n",
       "\t\t<td>0</td>\n",
       "\t\t<td>1</td>\n",
       "\t\t<td>0</td>\n",
       "\t\t<td>0</td>\n",
       "\t\t<td>0</td>\n",
       "\t</tr>\n",
       "\t<tr>\n",
       "\t\t<td>15580172</td>\n",
       "\t\t<td>146569.49</td>\n",
       "\t\t<td>202479.0</td>\n",
       "\t\t<td>55909.51</td>\n",
       "\t\t<td>986690.88</td>\n",
       "\t\t<td>1133260.37</td>\n",
       "\t\t<td>1</td>\n",
       "\t\t<td>0</td>\n",
       "\t\t<td>0</td>\n",
       "\t\t<td>0</td>\n",
       "\t\t<td>0</td>\n",
       "\t</tr>\n",
       "\t<tr>\n",
       "\t\t<td>7614022</td>\n",
       "\t\t<td>100736.13</td>\n",
       "\t\t<td>7727042.44</td>\n",
       "\t\t<td>7827778.57</td>\n",
       "\t\t<td>1602341.58</td>\n",
       "\t\t<td>1501605.45</td>\n",
       "\t\t<td>0</td>\n",
       "\t\t<td>0</td>\n",
       "\t\t<td>1</td>\n",
       "\t\t<td>0</td>\n",
       "\t\t<td>0</td>\n",
       "\t</tr>\n",
       "\t<tr>\n",
       "\t\t<td>7625156</td>\n",
       "\t\t<td>164107.97</td>\n",
       "\t\t<td>51192.63</td>\n",
       "\t\t<td>0.0</td>\n",
       "\t\t<td>249794.07</td>\n",
       "\t\t<td>413902.04</td>\n",
       "\t\t<td>1</td>\n",
       "\t\t<td>0</td>\n",
       "\t\t<td>0</td>\n",
       "\t\t<td>0</td>\n",
       "\t\t<td>0</td>\n",
       "\t</tr>\n",
       "\t<tr>\n",
       "\t\t<td>3581415</td>\n",
       "\t\t<td>6543.81</td>\n",
       "\t\t<td>0.0</td>\n",
       "\t\t<td>0.0</td>\n",
       "\t\t<td>0.0</td>\n",
       "\t\t<td>0.0</td>\n",
       "\t\t<td>0</td>\n",
       "\t\t<td>1</td>\n",
       "\t\t<td>0</td>\n",
       "\t\t<td>0</td>\n",
       "\t\t<td>0</td>\n",
       "\t</tr>\n",
       "\t<tr>\n",
       "\t\t<td>8626869</td>\n",
       "\t\t<td>12796.07</td>\n",
       "\t\t<td>0.0</td>\n",
       "\t\t<td>0.0</td>\n",
       "\t\t<td>124207.69</td>\n",
       "\t\t<td>137003.76</td>\n",
       "\t\t<td>0</td>\n",
       "\t\t<td>0</td>\n",
       "\t\t<td>0</td>\n",
       "\t\t<td>1</td>\n",
       "\t\t<td>0</td>\n",
       "\t</tr>\n",
       "\t<tr>\n",
       "\t\t<td>1634128</td>\n",
       "\t\t<td>108881.67</td>\n",
       "\t\t<td>21267.0</td>\n",
       "\t\t<td>0.0</td>\n",
       "\t\t<td>0.0</td>\n",
       "\t\t<td>108881.67</td>\n",
       "\t\t<td>1</td>\n",
       "\t\t<td>0</td>\n",
       "\t\t<td>0</td>\n",
       "\t\t<td>0</td>\n",
       "\t\t<td>0</td>\n",
       "\t</tr>\n",
       "\t<tr>\n",
       "\t\t<td>10624728</td>\n",
       "\t\t<td>3128.29</td>\n",
       "\t\t<td>0.0</td>\n",
       "\t\t<td>0.0</td>\n",
       "\t\t<td>0.0</td>\n",
       "\t\t<td>0.0</td>\n",
       "\t\t<td>0</td>\n",
       "\t\t<td>1</td>\n",
       "\t\t<td>0</td>\n",
       "\t\t<td>0</td>\n",
       "\t\t<td>0</td>\n",
       "\t</tr>\n",
       "\t<tr>\n",
       "\t\t<td>3631987</td>\n",
       "\t\t<td>29886.18</td>\n",
       "\t\t<td>0.0</td>\n",
       "\t\t<td>0.0</td>\n",
       "\t\t<td>0.0</td>\n",
       "\t\t<td>0.0</td>\n",
       "\t\t<td>0</td>\n",
       "\t\t<td>1</td>\n",
       "\t\t<td>0</td>\n",
       "\t\t<td>0</td>\n",
       "\t\t<td>0</td>\n",
       "\t</tr>\n",
       "\t<tr>\n",
       "\t\t<td>4591713</td>\n",
       "\t\t<td>5574.54</td>\n",
       "\t\t<td>196.0</td>\n",
       "\t\t<td>0.0</td>\n",
       "\t\t<td>0.0</td>\n",
       "\t\t<td>0.0</td>\n",
       "\t\t<td>0</td>\n",
       "\t\t<td>1</td>\n",
       "\t\t<td>0</td>\n",
       "\t\t<td>0</td>\n",
       "\t\t<td>0</td>\n",
       "\t</tr>\n",
       "</table></html>"
      ],
      "text/plain": [
       "     txn_id       amount  oldbalanceOrig  newbalanceOrig  oldbalanceDest  newbalanceDest  type_CASH_OUT  type_PAYMENT  type_CASH_IN  type_TRANSFER  isFraud\n",
       "0  11595588  10000000.00       103859.00            0.00       420793.81     22364195.46              0             0             0              1        0\n",
       "1  12591734       371.86         3574.75         3202.89            0.00            0.00              0             1             0              0        0\n",
       "2   6612309    600401.99        42097.00            0.00            0.00       600401.99              0             0             0              1        0\n",
       "3   7625156    164107.97        51192.63            0.00       249794.07       413902.04              1             0             0              0        0\n",
       "4   8626869     12796.07            0.00            0.00       124207.69       137003.76              0             0             0              1        0\n",
       "5  19590042      5499.25            0.00            0.00            0.00            0.00              0             1             0              0        0\n",
       "6  10624728      3128.29            0.00            0.00            0.00            0.00              0             1             0              0        0\n",
       "7   1634128    108881.67        21267.00            0.00            0.00       108881.67              1             0             0              0        0\n",
       "8   7614022    100736.13      7727042.44      7827778.57      1602341.58      1501605.45              0             0             1              0        0\n",
       "9   8604132    269050.49            0.00            0.00      4221441.44      4490491.92              1             0             0              0        0"
      ]
     },
     "execution_count": 20,
     "metadata": {},
     "output_type": "execute_result"
    }
   ],
   "source": [
    "ADS = obj.result[[id_column] +features + [target]]\n",
    "ADS"
   ]
  },
  {
   "cell_type": "code",
   "execution_count": 21,
   "id": "31e99d8f-3b57-40d6-ae0a-1dd1d17fd105",
   "metadata": {
    "tags": []
   },
   "outputs": [
    {
     "data": {
      "text/plain": [
       "(600000, 11)"
      ]
     },
     "execution_count": 21,
     "metadata": {},
     "output_type": "execute_result"
    }
   ],
   "source": [
    "ADS.shape"
   ]
  },
  {
   "cell_type": "code",
   "execution_count": 22,
   "id": "3e9a3ea4-6515-468b-8b45-2e30befb843d",
   "metadata": {
    "tags": []
   },
   "outputs": [
    {
     "data": {
      "text/html": [
       "<style type=\"text/css\">\n",
       "                                table {border:ridge 5px;}\n",
       "                                table td {border:inset 1px;}\n",
       "                                table tr#HeaderRow {background-color:grey; color:white;}\n",
       "                               </style>\n",
       "                               <html>\n",
       "                                  <table>\n",
       "                                    <tr id=\"HeaderRow\">\n",
       "                                        <th>COLUMN NAME</th>\n",
       "                                        <th>TYPE</th>\n",
       "                                    </tr>\n",
       "                                    <tr><td>txn_id</td><td>INTEGER()</td></tr>\n",
       "<tr><td>amount</td><td>FLOAT()</td></tr>\n",
       "<tr><td>oldbalanceOrig</td><td>FLOAT()</td></tr>\n",
       "<tr><td>newbalanceOrig</td><td>FLOAT()</td></tr>\n",
       "<tr><td>oldbalanceDest</td><td>FLOAT()</td></tr>\n",
       "<tr><td>newbalanceDest</td><td>FLOAT()</td></tr>\n",
       "<tr><td>type_CASH_OUT</td><td>INTEGER()</td></tr>\n",
       "<tr><td>type_PAYMENT</td><td>INTEGER()</td></tr>\n",
       "<tr><td>type_CASH_IN</td><td>INTEGER()</td></tr>\n",
       "<tr><td>type_TRANSFER</td><td>INTEGER()</td></tr>\n",
       "<tr><td>isFraud</td><td>INTEGER()</td></tr>\n",
       "                                  </table>\n",
       "                               </html>\n",
       "                            "
      ],
      "text/plain": [
       "txn_id            INTEGER()\n",
       "amount              FLOAT()\n",
       "oldbalanceOrig      FLOAT()\n",
       "newbalanceOrig      FLOAT()\n",
       "oldbalanceDest      FLOAT()\n",
       "newbalanceDest      FLOAT()\n",
       "type_CASH_OUT     INTEGER()\n",
       "type_PAYMENT      INTEGER()\n",
       "type_CASH_IN      INTEGER()\n",
       "type_TRANSFER     INTEGER()\n",
       "isFraud           INTEGER()"
      ]
     },
     "execution_count": 22,
     "metadata": {},
     "output_type": "execute_result"
    }
   ],
   "source": [
    "ADS.tdtypes"
   ]
  },
  {
   "cell_type": "markdown",
   "id": "e38aea50-1d3b-4d0a-be36-09319c2e4303",
   "metadata": {},
   "source": [
    "### 3.2 - Scaling of the data"
   ]
  },
  {
   "cell_type": "markdown",
   "id": "a56a621b-736b-47bd-88ed-4b2dda7116b6",
   "metadata": {},
   "source": [
    "![](./images/Slide35.PNG)"
   ]
  },
  {
   "cell_type": "code",
   "execution_count": 23,
   "id": "6fb14452-68fa-41f6-be90-addc6a7fcc98",
   "metadata": {
    "tags": []
   },
   "outputs": [],
   "source": [
    "scaler = tdml.ScaleFit(\n",
    "                    data=ADS,\n",
    "                    target_columns=list(ADS.columns[1:6]),\n",
    "                    scale_method=\"STD\",\n",
    "                    global_scale=False)"
   ]
  },
  {
   "cell_type": "code",
   "execution_count": 52,
   "id": "5d3b1ed3-5d8f-4cdb-991b-a2ce63bac8c6",
   "metadata": {},
   "outputs": [
    {
     "ename": "TeradataMlException",
     "evalue": "[Teradata][teradataml](TDML_2000) Failed to connect to Teradata Vantage.",
     "output_type": "error",
     "traceback": [
      "\u001b[1;31m---------------------------------------------------------------------------\u001b[0m",
      "\u001b[1;31mTeradataMlException\u001b[0m                       Traceback (most recent call last)",
      "File \u001b[1;32m~\\Anaconda3\\envs\\vantage39\\lib\\site-packages\\IPython\\core\\formatters.py:706\u001b[0m, in \u001b[0;36mPlainTextFormatter.__call__\u001b[1;34m(self, obj)\u001b[0m\n\u001b[0;32m    699\u001b[0m stream \u001b[38;5;241m=\u001b[39m StringIO()\n\u001b[0;32m    700\u001b[0m printer \u001b[38;5;241m=\u001b[39m pretty\u001b[38;5;241m.\u001b[39mRepresentationPrinter(stream, \u001b[38;5;28mself\u001b[39m\u001b[38;5;241m.\u001b[39mverbose,\n\u001b[0;32m    701\u001b[0m     \u001b[38;5;28mself\u001b[39m\u001b[38;5;241m.\u001b[39mmax_width, \u001b[38;5;28mself\u001b[39m\u001b[38;5;241m.\u001b[39mnewline,\n\u001b[0;32m    702\u001b[0m     max_seq_length\u001b[38;5;241m=\u001b[39m\u001b[38;5;28mself\u001b[39m\u001b[38;5;241m.\u001b[39mmax_seq_length,\n\u001b[0;32m    703\u001b[0m     singleton_pprinters\u001b[38;5;241m=\u001b[39m\u001b[38;5;28mself\u001b[39m\u001b[38;5;241m.\u001b[39msingleton_printers,\n\u001b[0;32m    704\u001b[0m     type_pprinters\u001b[38;5;241m=\u001b[39m\u001b[38;5;28mself\u001b[39m\u001b[38;5;241m.\u001b[39mtype_printers,\n\u001b[0;32m    705\u001b[0m     deferred_pprinters\u001b[38;5;241m=\u001b[39m\u001b[38;5;28mself\u001b[39m\u001b[38;5;241m.\u001b[39mdeferred_printers)\n\u001b[1;32m--> 706\u001b[0m \u001b[43mprinter\u001b[49m\u001b[38;5;241;43m.\u001b[39;49m\u001b[43mpretty\u001b[49m\u001b[43m(\u001b[49m\u001b[43mobj\u001b[49m\u001b[43m)\u001b[49m\n\u001b[0;32m    707\u001b[0m printer\u001b[38;5;241m.\u001b[39mflush()\n\u001b[0;32m    708\u001b[0m \u001b[38;5;28;01mreturn\u001b[39;00m stream\u001b[38;5;241m.\u001b[39mgetvalue()\n",
      "File \u001b[1;32m~\\Anaconda3\\envs\\vantage39\\lib\\site-packages\\IPython\\lib\\pretty.py:410\u001b[0m, in \u001b[0;36mRepresentationPrinter.pretty\u001b[1;34m(self, obj)\u001b[0m\n\u001b[0;32m    407\u001b[0m                         \u001b[38;5;28;01mreturn\u001b[39;00m meth(obj, \u001b[38;5;28mself\u001b[39m, cycle)\n\u001b[0;32m    408\u001b[0m                 \u001b[38;5;28;01mif\u001b[39;00m \u001b[38;5;28mcls\u001b[39m \u001b[38;5;129;01mis\u001b[39;00m \u001b[38;5;129;01mnot\u001b[39;00m \u001b[38;5;28mobject\u001b[39m \\\n\u001b[0;32m    409\u001b[0m                         \u001b[38;5;129;01mand\u001b[39;00m \u001b[38;5;28mcallable\u001b[39m(\u001b[38;5;28mcls\u001b[39m\u001b[38;5;241m.\u001b[39m\u001b[38;5;18m__dict__\u001b[39m\u001b[38;5;241m.\u001b[39mget(\u001b[38;5;124m'\u001b[39m\u001b[38;5;124m__repr__\u001b[39m\u001b[38;5;124m'\u001b[39m)):\n\u001b[1;32m--> 410\u001b[0m                     \u001b[38;5;28;01mreturn\u001b[39;00m \u001b[43m_repr_pprint\u001b[49m\u001b[43m(\u001b[49m\u001b[43mobj\u001b[49m\u001b[43m,\u001b[49m\u001b[43m \u001b[49m\u001b[38;5;28;43mself\u001b[39;49m\u001b[43m,\u001b[49m\u001b[43m \u001b[49m\u001b[43mcycle\u001b[49m\u001b[43m)\u001b[49m\n\u001b[0;32m    412\u001b[0m     \u001b[38;5;28;01mreturn\u001b[39;00m _default_pprint(obj, \u001b[38;5;28mself\u001b[39m, cycle)\n\u001b[0;32m    413\u001b[0m \u001b[38;5;28;01mfinally\u001b[39;00m:\n",
      "File \u001b[1;32m~\\Anaconda3\\envs\\vantage39\\lib\\site-packages\\IPython\\lib\\pretty.py:778\u001b[0m, in \u001b[0;36m_repr_pprint\u001b[1;34m(obj, p, cycle)\u001b[0m\n\u001b[0;32m    776\u001b[0m \u001b[38;5;250m\u001b[39m\u001b[38;5;124;03m\"\"\"A pprint that just redirects to the normal repr function.\"\"\"\u001b[39;00m\n\u001b[0;32m    777\u001b[0m \u001b[38;5;66;03m# Find newlines and replace them with p.break_()\u001b[39;00m\n\u001b[1;32m--> 778\u001b[0m output \u001b[38;5;241m=\u001b[39m \u001b[38;5;28;43mrepr\u001b[39;49m\u001b[43m(\u001b[49m\u001b[43mobj\u001b[49m\u001b[43m)\u001b[49m\n\u001b[0;32m    779\u001b[0m lines \u001b[38;5;241m=\u001b[39m output\u001b[38;5;241m.\u001b[39msplitlines()\n\u001b[0;32m    780\u001b[0m \u001b[38;5;28;01mwith\u001b[39;00m p\u001b[38;5;241m.\u001b[39mgroup():\n",
      "File \u001b[1;32m~\\Anaconda3\\envs\\vantage39\\lib\\site-packages\\teradataml\\dataframe\\dataframe.py:5086\u001b[0m, in \u001b[0;36mDataFrame.__repr__\u001b[1;34m(self)\u001b[0m\n\u001b[0;32m   5083\u001b[0m     query \u001b[38;5;241m+\u001b[39m\u001b[38;5;241m=\u001b[39m \u001b[38;5;124m'\u001b[39m\u001b[38;5;124m ORDER BY \u001b[39m\u001b[38;5;124m'\u001b[39m \u001b[38;5;241m+\u001b[39m \u001b[38;5;28mself\u001b[39m\u001b[38;5;241m.\u001b[39m_orderby\n\u001b[0;32m   5085\u001b[0m \u001b[38;5;66;03m# Execute the query and get the results in a list and create a Pandas DataFrame from the same.\u001b[39;00m\n\u001b[1;32m-> 5086\u001b[0m data, columns \u001b[38;5;241m=\u001b[39m \u001b[43mUtilFuncs\u001b[49m\u001b[38;5;241;43m.\u001b[39;49m\u001b[43m_execute_query\u001b[49m\u001b[43m(\u001b[49m\u001b[43mquery\u001b[49m\u001b[38;5;241;43m=\u001b[39;49m\u001b[43mquery\u001b[49m\u001b[43m,\u001b[49m\u001b[43m \u001b[49m\u001b[43mfetchWarnings\u001b[49m\u001b[38;5;241;43m=\u001b[39;49m\u001b[38;5;28;43;01mTrue\u001b[39;49;00m\u001b[43m)\u001b[49m\n\u001b[0;32m   5087\u001b[0m pandas_df \u001b[38;5;241m=\u001b[39m pd\u001b[38;5;241m.\u001b[39mDataFrame\u001b[38;5;241m.\u001b[39mfrom_records(data, columns\u001b[38;5;241m=\u001b[39mcolumns, coerce_float\u001b[38;5;241m=\u001b[39m\u001b[38;5;28;01mTrue\u001b[39;00m)\n\u001b[0;32m   5089\u001b[0m \u001b[38;5;28;01mif\u001b[39;00m \u001b[38;5;28mself\u001b[39m\u001b[38;5;241m.\u001b[39m_index_label:\n",
      "File \u001b[1;32m~\\Anaconda3\\envs\\vantage39\\lib\\site-packages\\teradataml\\common\\utils.py:770\u001b[0m, in \u001b[0;36mUtilFuncs._execute_query\u001b[1;34m(query, fetchWarnings, expect_none_result)\u001b[0m\n\u001b[0;32m    768\u001b[0m             cursor\u001b[38;5;241m.\u001b[39mclose()\n\u001b[0;32m    769\u001b[0m \u001b[38;5;28;01melse\u001b[39;00m:\n\u001b[1;32m--> 770\u001b[0m     \u001b[38;5;28;01mraise\u001b[39;00m TeradataMlException(Messages\u001b[38;5;241m.\u001b[39mget_message(MessageCodes\u001b[38;5;241m.\u001b[39mCONNECTION_FAILURE),\n\u001b[0;32m    771\u001b[0m                               MessageCodes\u001b[38;5;241m.\u001b[39mCONNECTION_FAILURE)\n",
      "\u001b[1;31mTeradataMlException\u001b[0m: [Teradata][teradataml](TDML_2000) Failed to connect to Teradata Vantage."
     ]
    },
    {
     "ename": "TeradataMlException",
     "evalue": "[Teradata][teradataml](TDML_2000) Failed to connect to Teradata Vantage.",
     "output_type": "error",
     "traceback": [
      "\u001b[1;31m---------------------------------------------------------------------------\u001b[0m",
      "\u001b[1;31mTeradataMlException\u001b[0m                       Traceback (most recent call last)",
      "File \u001b[1;32m~\\Anaconda3\\envs\\vantage39\\lib\\site-packages\\IPython\\core\\formatters.py:342\u001b[0m, in \u001b[0;36mBaseFormatter.__call__\u001b[1;34m(self, obj)\u001b[0m\n\u001b[0;32m    340\u001b[0m     method \u001b[38;5;241m=\u001b[39m get_real_method(obj, \u001b[38;5;28mself\u001b[39m\u001b[38;5;241m.\u001b[39mprint_method)\n\u001b[0;32m    341\u001b[0m     \u001b[38;5;28;01mif\u001b[39;00m method \u001b[38;5;129;01mis\u001b[39;00m \u001b[38;5;129;01mnot\u001b[39;00m \u001b[38;5;28;01mNone\u001b[39;00m:\n\u001b[1;32m--> 342\u001b[0m         \u001b[38;5;28;01mreturn\u001b[39;00m \u001b[43mmethod\u001b[49m\u001b[43m(\u001b[49m\u001b[43m)\u001b[49m\n\u001b[0;32m    343\u001b[0m     \u001b[38;5;28;01mreturn\u001b[39;00m \u001b[38;5;28;01mNone\u001b[39;00m\n\u001b[0;32m    344\u001b[0m \u001b[38;5;28;01melse\u001b[39;00m:\n",
      "File \u001b[1;32m~\\Anaconda3\\envs\\vantage39\\lib\\site-packages\\teradataml\\dataframe\\dataframe.py:5116\u001b[0m, in \u001b[0;36mDataFrame._repr_html_\u001b[1;34m(self)\u001b[0m\n\u001b[0;32m   5113\u001b[0m     query \u001b[38;5;241m+\u001b[39m\u001b[38;5;241m=\u001b[39m \u001b[38;5;124m'\u001b[39m\u001b[38;5;124m ORDER BY \u001b[39m\u001b[38;5;124m'\u001b[39m \u001b[38;5;241m+\u001b[39m \u001b[38;5;28mself\u001b[39m\u001b[38;5;241m.\u001b[39m_orderby\n\u001b[0;32m   5115\u001b[0m \u001b[38;5;66;03m# Execute the query and get the results in a list.\u001b[39;00m\n\u001b[1;32m-> 5116\u001b[0m data, columns \u001b[38;5;241m=\u001b[39m \u001b[43mUtilFuncs\u001b[49m\u001b[38;5;241;43m.\u001b[39;49m\u001b[43m_execute_query\u001b[49m\u001b[43m(\u001b[49m\u001b[43mquery\u001b[49m\u001b[38;5;241;43m=\u001b[39;49m\u001b[43mquery\u001b[49m\u001b[43m,\u001b[49m\u001b[43m \u001b[49m\u001b[43mfetchWarnings\u001b[49m\u001b[38;5;241;43m=\u001b[39;49m\u001b[38;5;28;43;01mTrue\u001b[39;49;00m\u001b[43m)\u001b[49m\n\u001b[0;32m   5118\u001b[0m \u001b[38;5;66;03m# Generate the HTML content from data and columns.\u001b[39;00m\n\u001b[0;32m   5119\u001b[0m indent \u001b[38;5;241m=\u001b[39m \u001b[38;5;124m\"\u001b[39m\u001b[38;5;130;01m\\t\u001b[39;00m\u001b[38;5;124m\"\u001b[39m\n",
      "File \u001b[1;32m~\\Anaconda3\\envs\\vantage39\\lib\\site-packages\\teradataml\\common\\utils.py:770\u001b[0m, in \u001b[0;36mUtilFuncs._execute_query\u001b[1;34m(query, fetchWarnings, expect_none_result)\u001b[0m\n\u001b[0;32m    768\u001b[0m             cursor\u001b[38;5;241m.\u001b[39mclose()\n\u001b[0;32m    769\u001b[0m \u001b[38;5;28;01melse\u001b[39;00m:\n\u001b[1;32m--> 770\u001b[0m     \u001b[38;5;28;01mraise\u001b[39;00m TeradataMlException(Messages\u001b[38;5;241m.\u001b[39mget_message(MessageCodes\u001b[38;5;241m.\u001b[39mCONNECTION_FAILURE),\n\u001b[0;32m    771\u001b[0m                               MessageCodes\u001b[38;5;241m.\u001b[39mCONNECTION_FAILURE)\n",
      "\u001b[1;31mTeradataMlException\u001b[0m: [Teradata][teradataml](TDML_2000) Failed to connect to Teradata Vantage."
     ]
    }
   ],
   "source": [
    "scaler.output"
   ]
  },
  {
   "cell_type": "code",
   "execution_count": 24,
   "id": "2cf4515f-db56-48b7-95ce-ffe08c15fc6a",
   "metadata": {
    "tags": []
   },
   "outputs": [
    {
     "data": {
      "text/html": [
       "<style type=\"text/css\">\n",
       "\ttable {border:ridge 5px;}\n",
       "\ttable td {border:inset 1px;}\n",
       "\ttable tr#HeaderRow {background-color:grey; color:white;}</style>\n",
       "<html><table>\n",
       "\t<tr id=\"HeaderRow\">\n",
       "\t\t<th>txn_id</th>\n",
       "\t\t<th>amount</th>\n",
       "\t\t<th>oldbalanceOrig</th>\n",
       "\t\t<th>newbalanceOrig</th>\n",
       "\t\t<th>oldbalanceDest</th>\n",
       "\t\t<th>newbalanceDest</th>\n",
       "\t\t<th>type_CASH_OUT</th>\n",
       "\t\t<th>type_PAYMENT</th>\n",
       "\t\t<th>type_CASH_IN</th>\n",
       "\t\t<th>type_TRANSFER</th>\n",
       "\t\t<th>isFraud</th>\n",
       "\t</tr>\n",
       "\t<tr>\n",
       "\t\t<td>5585983</td>\n",
       "\t\t<td>-0.3077432826711901</td>\n",
       "\t\t<td>-0.2529197038308716</td>\n",
       "\t\t<td>-0.25770964785044026</td>\n",
       "\t\t<td>-0.3340922595525263</td>\n",
       "\t\t<td>-0.3476100005485099</td>\n",
       "\t\t<td>0</td>\n",
       "\t\t<td>1</td>\n",
       "\t\t<td>0</td>\n",
       "\t\t<td>0</td>\n",
       "\t\t<td>0</td>\n",
       "\t</tr>\n",
       "\t<tr>\n",
       "\t\t<td>8613859</td>\n",
       "\t\t<td>-0.07913749132085193</td>\n",
       "\t\t<td>-0.2850164034588886</td>\n",
       "\t\t<td>-0.28859083338422087</td>\n",
       "\t\t<td>-0.29023104838869834</td>\n",
       "\t\t<td>-0.26921566691655885</td>\n",
       "\t\t<td>1</td>\n",
       "\t\t<td>0</td>\n",
       "\t\t<td>0</td>\n",
       "\t\t<td>0</td>\n",
       "\t\t<td>0</td>\n",
       "\t</tr>\n",
       "\t<tr>\n",
       "\t\t<td>18628440</td>\n",
       "\t\t<td>-0.2704305892543992</td>\n",
       "\t\t<td>-0.2850164034588886</td>\n",
       "\t\t<td>-0.28859083338422087</td>\n",
       "\t\t<td>-0.3340922595525263</td>\n",
       "\t\t<td>-0.3476100005485099</td>\n",
       "\t\t<td>0</td>\n",
       "\t\t<td>1</td>\n",
       "\t\t<td>0</td>\n",
       "\t\t<td>0</td>\n",
       "\t\t<td>0</td>\n",
       "\t</tr>\n",
       "\t<tr>\n",
       "\t\t<td>4586819</td>\n",
       "\t\t<td>-0.3072514494942077</td>\n",
       "\t\t<td>-0.26962636348464597</td>\n",
       "\t\t<td>-0.27429742283228076</td>\n",
       "\t\t<td>-0.31809577803835004</td>\n",
       "\t\t<td>-0.33188805909141245</td>\n",
       "\t\t<td>0</td>\n",
       "\t\t<td>0</td>\n",
       "\t\t<td>0</td>\n",
       "\t\t<td>0</td>\n",
       "\t\t<td>0</td>\n",
       "\t</tr>\n",
       "\t<tr>\n",
       "\t\t<td>6632701</td>\n",
       "\t\t<td>-0.08794666299695497</td>\n",
       "\t\t<td>-0.27433356635126827</td>\n",
       "\t\t<td>-0.23304667580294935</td>\n",
       "\t\t<td>-0.3340922595525263</td>\n",
       "\t\t<td>-0.3476100005485099</td>\n",
       "\t\t<td>0</td>\n",
       "\t\t<td>0</td>\n",
       "\t\t<td>1</td>\n",
       "\t\t<td>0</td>\n",
       "\t\t<td>0</td>\n",
       "\t</tr>\n",
       "\t<tr>\n",
       "\t\t<td>6624116</td>\n",
       "\t\t<td>-0.25917449910887985</td>\n",
       "\t\t<td>-0.28303838995916153</td>\n",
       "\t\t<td>-0.28859083338422087</td>\n",
       "\t\t<td>-0.3340922595525263</td>\n",
       "\t\t<td>-0.3476100005485099</td>\n",
       "\t\t<td>0</td>\n",
       "\t\t<td>1</td>\n",
       "\t\t<td>0</td>\n",
       "\t\t<td>0</td>\n",
       "\t\t<td>0</td>\n",
       "\t</tr>\n",
       "\t<tr>\n",
       "\t\t<td>12581273</td>\n",
       "\t\t<td>-0.26305007336194114</td>\n",
       "\t\t<td>-0.2850164034588886</td>\n",
       "\t\t<td>-0.28859083338422087</td>\n",
       "\t\t<td>-0.3340922595525263</td>\n",
       "\t\t<td>-0.3476100005485099</td>\n",
       "\t\t<td>0</td>\n",
       "\t\t<td>1</td>\n",
       "\t\t<td>0</td>\n",
       "\t\t<td>0</td>\n",
       "\t\t<td>0</td>\n",
       "\t</tr>\n",
       "\t<tr>\n",
       "\t\t<td>4615123</td>\n",
       "\t\t<td>-0.3033628427349137</td>\n",
       "\t\t<td>-0.247709305563784</td>\n",
       "\t\t<td>-0.2534481344758548</td>\n",
       "\t\t<td>-0.3340922595525263</td>\n",
       "\t\t<td>-0.3476100005485099</td>\n",
       "\t\t<td>0</td>\n",
       "\t\t<td>1</td>\n",
       "\t\t<td>0</td>\n",
       "\t\t<td>0</td>\n",
       "\t\t<td>0</td>\n",
       "\t</tr>\n",
       "\t<tr>\n",
       "\t\t<td>12626278</td>\n",
       "\t\t<td>0.35067995518977174</td>\n",
       "\t\t<td>-0.2760101140983411</td>\n",
       "\t\t<td>-0.28859083338422087</td>\n",
       "\t\t<td>-0.3340922595525263</td>\n",
       "\t\t<td>-0.24153986887064466</td>\n",
       "\t\t<td>0</td>\n",
       "\t\t<td>0</td>\n",
       "\t\t<td>0</td>\n",
       "\t\t<td>1</td>\n",
       "\t\t<td>0</td>\n",
       "\t</tr>\n",
       "\t<tr>\n",
       "\t\t<td>10633986</td>\n",
       "\t\t<td>-0.30120693123197845</td>\n",
       "\t\t<td>-0.2850164034588886</td>\n",
       "\t\t<td>-0.28859083338422087</td>\n",
       "\t\t<td>-0.3340922595525263</td>\n",
       "\t\t<td>-0.3476100005485099</td>\n",
       "\t\t<td>0</td>\n",
       "\t\t<td>1</td>\n",
       "\t\t<td>0</td>\n",
       "\t\t<td>0</td>\n",
       "\t\t<td>0</td>\n",
       "\t</tr>\n",
       "</table></html>"
      ],
      "text/plain": [
       "     txn_id     amount  oldbalanceOrig  newbalanceOrig  oldbalanceDest  newbalanceDest  type_CASH_OUT  type_PAYMENT  type_CASH_IN  type_TRANSFER  isFraud\n",
       "0  19590042  -0.302112       -0.285016       -0.288591       -0.334092       -0.347610              0             1             0              0        0\n",
       "1  11595588  17.134754       -0.248094       -0.288591       -0.208794        5.900407              0             0             0              1        0\n",
       "2   7625156  -0.025396       -0.266817       -0.288591       -0.259712       -0.231976              1             0             0              0        0\n",
       "3   6612309   0.735782       -0.270051       -0.288591       -0.334092       -0.179872              0             0             0              1        0\n",
       "4   7614022  -0.135958        2.461963        2.457922        0.143031        0.071902              0             0             1              0        0\n",
       "5   4591713  -0.301981       -0.284947       -0.288591       -0.334092       -0.347610              0             1             0              0        0\n",
       "6   3631987  -0.259566       -0.285016       -0.288591       -0.334092       -0.347610              0             1             0              0        0\n",
       "7   1634128  -0.121747       -0.277456       -0.288591       -0.334092       -0.317191              1             0             0              0        0\n",
       "8  11615307  -0.068656       -0.285016       -0.288591        0.732984        0.692482              1             0             0              0        0\n",
       "9  19581457  -0.240211       -0.285016       -0.288591       -0.312597       -0.315994              1             0             0              0        0"
      ]
     },
     "execution_count": 24,
     "metadata": {},
     "output_type": "execute_result"
    }
   ],
   "source": [
    "ADS_scaled = tdml.ScaleTransform(data=ADS,\n",
    "                         object=scaler.output,\n",
    "                         accumulate=[id_column, target]+list(ADS.columns[6:-1])).result\n",
    "ADS_scaled = ADS_scaled[[id_column] +features + [target]]\n",
    "ADS_scaled"
   ]
  },
  {
   "cell_type": "markdown",
   "id": "65558be5-4781-4cd3-aa12-3f6764b2ce3e",
   "metadata": {},
   "source": [
    "<div class=\"alert alert-block alert-info\"> <b> </b> \n",
    "</div>"
   ]
  },
  {
   "cell_type": "markdown",
   "id": "49b81df5-2ac5-4a92-bc90-88be4ef129d5",
   "metadata": {},
   "source": [
    "### 3.3 - Machine Learning Model Training : RandomForest training (in-database)"
   ]
  },
  {
   "cell_type": "markdown",
   "id": "8dd9ec78-140c-4013-b8f9-d1c99a2eca6b",
   "metadata": {},
   "source": [
    "<div class=\"alert alert-block alert-info\"> <b> </b> \n",
    "</div>"
   ]
  },
  {
   "cell_type": "markdown",
   "id": "e227d149-b67a-4d51-823c-ae275b597479",
   "metadata": {},
   "source": [
    "![](./images/Slide26.PNG)\n",
    "![](./images/Slide36.PNG)"
   ]
  },
  {
   "cell_type": "code",
   "execution_count": 25,
   "id": "42c3d538-fa9b-403c-a4a6-bce8174fc0b4",
   "metadata": {
    "tags": []
   },
   "outputs": [
    {
     "data": {
      "text/plain": [
       "'17.20.03.15'"
      ]
     },
     "execution_count": 25,
     "metadata": {},
     "output_type": "execute_result"
    }
   ],
   "source": [
    "from teradataml import *\n",
    "\n",
    "configure.database_version"
   ]
  },
  {
   "cell_type": "markdown",
   "id": "d267f705-a4e9-4158-82a6-b5b88d965ff7",
   "metadata": {},
   "source": [
    "ADS_scaled.to_sql(temporary=True, table_name = 'ADS_scaled',if_exists='replace')\n",
    "ADS_scaled = tdml.DataFrame(tdml.in_schema(Param['user'] , 'ADS_scaled'))"
   ]
  },
  {
   "cell_type": "code",
   "execution_count": 26,
   "id": "3b7c0196-b1c8-4473-b30b-4742aa6d3910",
   "metadata": {
    "tags": []
   },
   "outputs": [
    {
     "data": {
      "text/html": [
       "<div>\n",
       "<style scoped>\n",
       "    .dataframe tbody tr th:only-of-type {\n",
       "        vertical-align: middle;\n",
       "    }\n",
       "\n",
       "    .dataframe tbody tr th {\n",
       "        vertical-align: top;\n",
       "    }\n",
       "\n",
       "    .dataframe thead th {\n",
       "        text-align: right;\n",
       "    }\n",
       "</style>\n",
       "<table border=\"1\" class=\"dataframe\">\n",
       "  <thead>\n",
       "    <tr style=\"text-align: right;\">\n",
       "      <th></th>\n",
       "      <th>isFraud</th>\n",
       "      <th>count_txn_id</th>\n",
       "    </tr>\n",
       "  </thead>\n",
       "  <tbody>\n",
       "    <tr>\n",
       "      <th>0</th>\n",
       "      <td>1</td>\n",
       "      <td>740</td>\n",
       "    </tr>\n",
       "    <tr>\n",
       "      <th>1</th>\n",
       "      <td>0</td>\n",
       "      <td>599260</td>\n",
       "    </tr>\n",
       "  </tbody>\n",
       "</table>\n",
       "</div>"
      ],
      "text/plain": [
       "   isFraud  count_txn_id\n",
       "0        1           740\n",
       "1        0        599260"
      ]
     },
     "execution_count": 26,
     "metadata": {},
     "output_type": "execute_result"
    }
   ],
   "source": [
    "training_stats = ADS_scaled[['isFraud','txn_id']].groupby('isFraud').count().to_pandas()\n",
    "training_stats"
   ]
  },
  {
   "cell_type": "code",
   "execution_count": 27,
   "id": "3c757767-86a3-4a2f-89d4-dcb2fc92b494",
   "metadata": {
    "tags": []
   },
   "outputs": [
    {
     "data": {
      "text/plain": [
       "<AxesSubplot: xlabel='isFraud'>"
      ]
     },
     "execution_count": 27,
     "metadata": {},
     "output_type": "execute_result"
    },
    {
     "data": {
      "image/png": "[encoded data removed]",
      "text/plain": [
       "<Figure size 640x480 with 1 Axes>"
      ]
     },
     "metadata": {},
     "output_type": "display_data"
    }
   ],
   "source": [
    "training_stats.plot(x='isFraud', y='count_txn_id',kind='bar')"
   ]
  },
  {
   "cell_type": "code",
   "execution_count": 28,
   "id": "d33410d4-9ef8-4143-bdfc-f24135be340d",
   "metadata": {
    "tags": []
   },
   "outputs": [
    {
     "data": {
      "text/plain": [
       "'select txn_id,amount,oldbalanceOrig,newbalanceOrig,oldbalanceDest,newbalanceDest,type_CASH_OUT,type_PAYMENT,type_CASH_IN,type_TRANSFER,isFraud from (select * from \"dm250067\".\"ml__select__1697474159686542\" where \"isFraud\" = 1) as temp_table union all select txn_id,amount,oldbalanceOrig,newbalanceOrig,oldbalanceDest,newbalanceDest,type_CASH_OUT,type_PAYMENT,type_CASH_IN,type_TRANSFER,isFraud from (select txn_id,amount,\"oldbalanceOrig\",\"newbalanceOrig\",\"oldbalanceDest\",\"newbalanceDest\",\"type_CASH_OUT\",\"type_PAYMENT\",\"type_CASH_IN\",\"type_TRANSFER\",\"isFraud\" from (select * from (select row_number() over (order by \"txn_id\" asc) - 1 as tdml_row_num, txn_id,amount,\"oldbalanceOrig\",\"newbalanceOrig\",\"oldbalanceDest\",\"newbalanceDest\",\"type_CASH_OUT\",\"type_PAYMENT\",\"type_CASH_IN\",\"type_TRANSFER\",\"isFraud\" from (select * from \"dm250067\".\"ml__select__1697474159686542\" where \"isFraud\" = 0) as temp_table) as temp_table where tdml_row_num < 740) as temp_table) as temp_table'"
      ]
     },
     "execution_count": 28,
     "metadata": {},
     "output_type": "execute_result"
    }
   ],
   "source": [
    "ADS_scaled_training = ADS_scaled[ADS_scaled.isFraud == 1].concat(ADS_scaled[ADS_scaled.isFraud == 0].head(n=ADS_scaled[ADS_scaled.isFraud == 1].shape[0]))\n",
    "ADS_scaled_training.show_query()"
   ]
  },
  {
   "cell_type": "code",
   "execution_count": 29,
   "id": "d1cbd300-9660-4b6b-bd65-17f721da8c1e",
   "metadata": {
    "tags": []
   },
   "outputs": [],
   "source": [
    "ADS_scaled_training.to_sql(table_name='ADS_scaled_training', schema_name=Param['database'], if_exists = 'replace', primary_index='txn_id')\n",
    "ADS_scaled_training = tdml.DataFrame(tdml.in_schema(Param['database'], 'ADS_scaled_training'))"
   ]
  },
  {
   "cell_type": "code",
   "execution_count": 30,
   "id": "2db51d38-0b74-4735-8dd5-9162e8a4e48e",
   "metadata": {
    "tags": []
   },
   "outputs": [
    {
     "data": {
      "text/plain": [
       "(1480, 11)"
      ]
     },
     "execution_count": 30,
     "metadata": {},
     "output_type": "execute_result"
    }
   ],
   "source": [
    "ADS_scaled_training.shape"
   ]
  },
  {
   "cell_type": "code",
   "execution_count": 31,
   "id": "e126881f-9b87-4e0a-ac0e-454431e25aef",
   "metadata": {
    "tags": []
   },
   "outputs": [
    {
     "data": {
      "text/html": [
       "<div>\n",
       "<style scoped>\n",
       "    .dataframe tbody tr th:only-of-type {\n",
       "        vertical-align: middle;\n",
       "    }\n",
       "\n",
       "    .dataframe tbody tr th {\n",
       "        vertical-align: top;\n",
       "    }\n",
       "\n",
       "    .dataframe thead th {\n",
       "        text-align: right;\n",
       "    }\n",
       "</style>\n",
       "<table border=\"1\" class=\"dataframe\">\n",
       "  <thead>\n",
       "    <tr style=\"text-align: right;\">\n",
       "      <th></th>\n",
       "      <th>isFraud</th>\n",
       "      <th>count_txn_id</th>\n",
       "    </tr>\n",
       "  </thead>\n",
       "  <tbody>\n",
       "    <tr>\n",
       "      <th>0</th>\n",
       "      <td>1</td>\n",
       "      <td>740</td>\n",
       "    </tr>\n",
       "    <tr>\n",
       "      <th>1</th>\n",
       "      <td>0</td>\n",
       "      <td>740</td>\n",
       "    </tr>\n",
       "  </tbody>\n",
       "</table>\n",
       "</div>"
      ],
      "text/plain": [
       "   isFraud  count_txn_id\n",
       "0        1           740\n",
       "1        0           740"
      ]
     },
     "execution_count": 31,
     "metadata": {},
     "output_type": "execute_result"
    }
   ],
   "source": [
    "training_stats = ADS_scaled_training[['isFraud','txn_id']].groupby('isFraud').count().to_pandas()\n",
    "training_stats"
   ]
  },
  {
   "cell_type": "code",
   "execution_count": null,
   "id": "5ed86bf2-12e3-4358-b09c-31434fadf015",
   "metadata": {},
   "outputs": [],
   "source": []
  },
  {
   "cell_type": "code",
   "execution_count": 32,
   "id": "00b0c4db-4a0a-4e6a-8c68-c5366ad4faff",
   "metadata": {
    "tags": []
   },
   "outputs": [
    {
     "data": {
      "text/plain": [
       "<AxesSubplot: xlabel='isFraud'>"
      ]
     },
     "execution_count": 32,
     "metadata": {},
     "output_type": "execute_result"
    },
    {
     "data": {
      "image/png": "[encoded data removed]",
      "text/plain": [
       "<Figure size 640x480 with 1 Axes>"
      ]
     },
     "metadata": {},
     "output_type": "display_data"
    }
   ],
   "source": [
    "training_stats.plot(x='isFraud', y='count_txn_id',kind='bar')"
   ]
  },
  {
   "cell_type": "code",
   "execution_count": 33,
   "id": "f32c0a7c-327c-4a8a-929a-366ac4213591",
   "metadata": {
    "tags": []
   },
   "outputs": [],
   "source": [
    "DecisionForest_obj = tdml.DecisionForest(data = ADS_scaled_training, \n",
    "                            input_columns = features, \n",
    "                            response_column = target, \n",
    "                            max_depth = 15, \n",
    "                            num_trees = 72, \n",
    "                            min_node_size = 1, \n",
    "                            mtry = 6, \n",
    "                            mtry_seed = 1, \n",
    "                            seed = 1, \n",
    "                            tree_type = 'CLASSIFICATION')"
   ]
  },
  {
   "cell_type": "code",
   "execution_count": 34,
   "id": "c20f5261-bc4e-479d-a14a-1943beb9f22a",
   "metadata": {
    "tags": []
   },
   "outputs": [],
   "source": [
    "DecisionForest_obj.result.to_sql(\"transaction_decision_forest_model\", \n",
    "                                 schema_name=Param['database'], if_exists = \"replace\")"
   ]
  },
  {
   "cell_type": "code",
   "execution_count": 35,
   "id": "655aac74-65e8-4188-9db5-54ea11d5bb73",
   "metadata": {
    "tags": []
   },
   "outputs": [],
   "source": [
    "DF_DecisionForestModel  = tdml.DataFrame(\n",
    "    tdml.in_schema(Param['database'],\"transaction_decision_forest_model\"))"
   ]
  },
  {
   "cell_type": "code",
   "execution_count": 36,
   "id": "0382654e-6ce8-497c-99d6-0fed803a4802",
   "metadata": {
    "tags": []
   },
   "outputs": [
    {
     "data": {
      "text/html": [
       "<style type=\"text/css\">\n",
       "\ttable {border:ridge 5px;}\n",
       "\ttable td {border:inset 1px;}\n",
       "\ttable tr#HeaderRow {background-color:grey; color:white;}</style>\n",
       "<html><table>\n",
       "\t<tr id=\"HeaderRow\">\n",
       "\t\t<th>txn_id</th>\n",
       "\t\t<th>prediction</th>\n",
       "\t\t<th>prob</th>\n",
       "\t</tr>\n",
       "\t<tr>\n",
       "\t\t<td>576868</td>\n",
       "\t\t<td>0</td>\n",
       "\t\t<td>0.5</td>\n",
       "\t</tr>\n",
       "\t<tr>\n",
       "\t\t<td>1608036</td>\n",
       "\t\t<td>0</td>\n",
       "\t\t<td>0.5</td>\n",
       "\t</tr>\n",
       "\t<tr>\n",
       "\t\t<td>608036</td>\n",
       "\t\t<td>0</td>\n",
       "\t\t<td>0.5</td>\n",
       "\t</tr>\n",
       "\t<tr>\n",
       "\t\t<td>576545</td>\n",
       "\t\t<td>0</td>\n",
       "\t\t<td>0.5</td>\n",
       "\t</tr>\n",
       "\t<tr>\n",
       "\t\t<td>17608036</td>\n",
       "\t\t<td>0</td>\n",
       "\t\t<td>0.5</td>\n",
       "\t</tr>\n",
       "\t<tr>\n",
       "\t\t<td>14608036</td>\n",
       "\t\t<td>0</td>\n",
       "\t\t<td>0.5</td>\n",
       "\t</tr>\n",
       "\t<tr>\n",
       "\t\t<td>15608036</td>\n",
       "\t\t<td>0</td>\n",
       "\t\t<td>0.5</td>\n",
       "\t</tr>\n",
       "\t<tr>\n",
       "\t\t<td>577538</td>\n",
       "\t\t<td>0</td>\n",
       "\t\t<td>0.5</td>\n",
       "\t</tr>\n",
       "\t<tr>\n",
       "\t\t<td>6608036</td>\n",
       "\t\t<td>0</td>\n",
       "\t\t<td>0.5</td>\n",
       "\t</tr>\n",
       "\t<tr>\n",
       "\t\t<td>576304</td>\n",
       "\t\t<td>0</td>\n",
       "\t\t<td>0.5</td>\n",
       "\t</tr>\n",
       "</table></html>"
      ],
      "text/plain": [
       "     txn_id  prediction  prob\n",
       "0  19608036           0   0.5\n",
       "1   3608036           0   0.5\n",
       "2    576545           0   0.5\n",
       "3  16608036           0   0.5\n",
       "4  15608036           0   0.5\n",
       "5    608036           0   0.5\n",
       "6   8608036           0   0.5\n",
       "7    577538           0   0.5\n",
       "8  11608036           0   0.5\n",
       "9  13608036           0   0.5"
      ]
     },
     "execution_count": 36,
     "metadata": {},
     "output_type": "execute_result"
    }
   ],
   "source": [
    "DecisionForestPredict_obj = tdml.TDDecisionForestPredict(object = DF_DecisionForestModel,\n",
    "                                                data = ADS_scaled_training,\n",
    "                                                id_column = id_column,                                                        \n",
    "                                                terms = [\"isFraud\"],\n",
    "                                                output_prob = True,\n",
    "                                                output_responses=[\"0\",\"1\"]\n",
    "                                                )\n",
    "DecisionForestPredict_obj.result.sort(\"prob\")"
   ]
  },
  {
   "cell_type": "code",
   "execution_count": 37,
   "id": "4b9ece1e-396a-453f-975c-2ad993672bbf",
   "metadata": {
    "tags": []
   },
   "outputs": [
    {
     "data": {
      "text/html": [
       "<div>\n",
       "<style scoped>\n",
       "    .dataframe tbody tr th:only-of-type {\n",
       "        vertical-align: middle;\n",
       "    }\n",
       "\n",
       "    .dataframe tbody tr th {\n",
       "        vertical-align: top;\n",
       "    }\n",
       "\n",
       "    .dataframe thead th {\n",
       "        text-align: right;\n",
       "    }\n",
       "</style>\n",
       "<table border=\"1\" class=\"dataframe\">\n",
       "  <thead>\n",
       "    <tr style=\"text-align: right;\">\n",
       "      <th></th>\n",
       "      <th>prob</th>\n",
       "      <th>count_txn_id</th>\n",
       "      <th>count_prediction</th>\n",
       "    </tr>\n",
       "  </thead>\n",
       "  <tbody>\n",
       "    <tr>\n",
       "      <th>27</th>\n",
       "      <td>0.500000</td>\n",
       "      <td>26</td>\n",
       "      <td>26</td>\n",
       "    </tr>\n",
       "    <tr>\n",
       "      <th>20</th>\n",
       "      <td>0.513889</td>\n",
       "      <td>11</td>\n",
       "      <td>11</td>\n",
       "    </tr>\n",
       "    <tr>\n",
       "      <th>22</th>\n",
       "      <td>0.527778</td>\n",
       "      <td>8</td>\n",
       "      <td>8</td>\n",
       "    </tr>\n",
       "    <tr>\n",
       "      <th>6</th>\n",
       "      <td>0.541667</td>\n",
       "      <td>34</td>\n",
       "      <td>34</td>\n",
       "    </tr>\n",
       "    <tr>\n",
       "      <th>23</th>\n",
       "      <td>0.555556</td>\n",
       "      <td>14</td>\n",
       "      <td>14</td>\n",
       "    </tr>\n",
       "    <tr>\n",
       "      <th>26</th>\n",
       "      <td>0.569444</td>\n",
       "      <td>16</td>\n",
       "      <td>16</td>\n",
       "    </tr>\n",
       "    <tr>\n",
       "      <th>1</th>\n",
       "      <td>0.583333</td>\n",
       "      <td>42</td>\n",
       "      <td>42</td>\n",
       "    </tr>\n",
       "    <tr>\n",
       "      <th>31</th>\n",
       "      <td>0.597222</td>\n",
       "      <td>38</td>\n",
       "      <td>38</td>\n",
       "    </tr>\n",
       "    <tr>\n",
       "      <th>30</th>\n",
       "      <td>0.611111</td>\n",
       "      <td>68</td>\n",
       "      <td>68</td>\n",
       "    </tr>\n",
       "    <tr>\n",
       "      <th>28</th>\n",
       "      <td>0.625000</td>\n",
       "      <td>30</td>\n",
       "      <td>30</td>\n",
       "    </tr>\n",
       "    <tr>\n",
       "      <th>16</th>\n",
       "      <td>0.638889</td>\n",
       "      <td>53</td>\n",
       "      <td>53</td>\n",
       "    </tr>\n",
       "    <tr>\n",
       "      <th>0</th>\n",
       "      <td>0.652778</td>\n",
       "      <td>20</td>\n",
       "      <td>20</td>\n",
       "    </tr>\n",
       "    <tr>\n",
       "      <th>19</th>\n",
       "      <td>0.666667</td>\n",
       "      <td>15</td>\n",
       "      <td>15</td>\n",
       "    </tr>\n",
       "    <tr>\n",
       "      <th>2</th>\n",
       "      <td>0.680556</td>\n",
       "      <td>48</td>\n",
       "      <td>48</td>\n",
       "    </tr>\n",
       "    <tr>\n",
       "      <th>21</th>\n",
       "      <td>0.694444</td>\n",
       "      <td>43</td>\n",
       "      <td>43</td>\n",
       "    </tr>\n",
       "    <tr>\n",
       "      <th>15</th>\n",
       "      <td>0.708333</td>\n",
       "      <td>16</td>\n",
       "      <td>16</td>\n",
       "    </tr>\n",
       "    <tr>\n",
       "      <th>24</th>\n",
       "      <td>0.722222</td>\n",
       "      <td>10</td>\n",
       "      <td>10</td>\n",
       "    </tr>\n",
       "    <tr>\n",
       "      <th>14</th>\n",
       "      <td>0.736111</td>\n",
       "      <td>94</td>\n",
       "      <td>94</td>\n",
       "    </tr>\n",
       "    <tr>\n",
       "      <th>17</th>\n",
       "      <td>0.750000</td>\n",
       "      <td>9</td>\n",
       "      <td>9</td>\n",
       "    </tr>\n",
       "    <tr>\n",
       "      <th>5</th>\n",
       "      <td>0.763889</td>\n",
       "      <td>41</td>\n",
       "      <td>41</td>\n",
       "    </tr>\n",
       "    <tr>\n",
       "      <th>29</th>\n",
       "      <td>0.777778</td>\n",
       "      <td>39</td>\n",
       "      <td>39</td>\n",
       "    </tr>\n",
       "    <tr>\n",
       "      <th>12</th>\n",
       "      <td>0.791667</td>\n",
       "      <td>21</td>\n",
       "      <td>21</td>\n",
       "    </tr>\n",
       "    <tr>\n",
       "      <th>3</th>\n",
       "      <td>0.805556</td>\n",
       "      <td>103</td>\n",
       "      <td>103</td>\n",
       "    </tr>\n",
       "    <tr>\n",
       "      <th>13</th>\n",
       "      <td>0.819444</td>\n",
       "      <td>47</td>\n",
       "      <td>47</td>\n",
       "    </tr>\n",
       "    <tr>\n",
       "      <th>33</th>\n",
       "      <td>0.833333</td>\n",
       "      <td>78</td>\n",
       "      <td>78</td>\n",
       "    </tr>\n",
       "    <tr>\n",
       "      <th>9</th>\n",
       "      <td>0.847222</td>\n",
       "      <td>60</td>\n",
       "      <td>60</td>\n",
       "    </tr>\n",
       "    <tr>\n",
       "      <th>8</th>\n",
       "      <td>0.861111</td>\n",
       "      <td>95</td>\n",
       "      <td>95</td>\n",
       "    </tr>\n",
       "    <tr>\n",
       "      <th>4</th>\n",
       "      <td>0.875000</td>\n",
       "      <td>150</td>\n",
       "      <td>150</td>\n",
       "    </tr>\n",
       "    <tr>\n",
       "      <th>10</th>\n",
       "      <td>0.888889</td>\n",
       "      <td>25</td>\n",
       "      <td>25</td>\n",
       "    </tr>\n",
       "    <tr>\n",
       "      <th>11</th>\n",
       "      <td>0.902778</td>\n",
       "      <td>11</td>\n",
       "      <td>11</td>\n",
       "    </tr>\n",
       "    <tr>\n",
       "      <th>18</th>\n",
       "      <td>0.916667</td>\n",
       "      <td>24</td>\n",
       "      <td>24</td>\n",
       "    </tr>\n",
       "    <tr>\n",
       "      <th>25</th>\n",
       "      <td>0.930556</td>\n",
       "      <td>90</td>\n",
       "      <td>90</td>\n",
       "    </tr>\n",
       "    <tr>\n",
       "      <th>7</th>\n",
       "      <td>0.944444</td>\n",
       "      <td>81</td>\n",
       "      <td>81</td>\n",
       "    </tr>\n",
       "    <tr>\n",
       "      <th>32</th>\n",
       "      <td>0.958333</td>\n",
       "      <td>20</td>\n",
       "      <td>20</td>\n",
       "    </tr>\n",
       "  </tbody>\n",
       "</table>\n",
       "</div>"
      ],
      "text/plain": [
       "        prob  count_txn_id  count_prediction\n",
       "27  0.500000            26                26\n",
       "20  0.513889            11                11\n",
       "22  0.527778             8                 8\n",
       "6   0.541667            34                34\n",
       "23  0.555556            14                14\n",
       "26  0.569444            16                16\n",
       "1   0.583333            42                42\n",
       "31  0.597222            38                38\n",
       "30  0.611111            68                68\n",
       "28  0.625000            30                30\n",
       "16  0.638889            53                53\n",
       "0   0.652778            20                20\n",
       "19  0.666667            15                15\n",
       "2   0.680556            48                48\n",
       "21  0.694444            43                43\n",
       "15  0.708333            16                16\n",
       "24  0.722222            10                10\n",
       "14  0.736111            94                94\n",
       "17  0.750000             9                 9\n",
       "5   0.763889            41                41\n",
       "29  0.777778            39                39\n",
       "12  0.791667            21                21\n",
       "3   0.805556           103               103\n",
       "13  0.819444            47                47\n",
       "33  0.833333            78                78\n",
       "9   0.847222            60                60\n",
       "8   0.861111            95                95\n",
       "4   0.875000           150               150\n",
       "10  0.888889            25                25\n",
       "11  0.902778            11                11\n",
       "18  0.916667            24                24\n",
       "25  0.930556            90                90\n",
       "7   0.944444            81                81\n",
       "32  0.958333            20                20"
      ]
     },
     "execution_count": 37,
     "metadata": {},
     "output_type": "execute_result"
    }
   ],
   "source": [
    "DecisionForestPredict_obj.result.groupby('prob').count().to_pandas().sort_values('prob')"
   ]
  },
  {
   "cell_type": "markdown",
   "id": "67b535f9-6709-4fb4-a02e-2f0bf1814932",
   "metadata": {},
   "source": [
    "<div class=\"alert alert-block alert-info\"> <b> </b> \n",
    "</div>"
   ]
  },
  {
   "cell_type": "markdown",
   "id": "8979f99a-8724-4015-87a8-f90aad4246cb",
   "metadata": {},
   "source": [
    "## 4 - Machine Learning Pipeline Scoring"
   ]
  },
  {
   "cell_type": "markdown",
   "id": "a96efe96-bad4-46a7-bb62-090b2a587820",
   "metadata": {},
   "source": [
    "<div class=\"alert alert-block alert-info\"> <b> </b> \n",
    "</div>"
   ]
  },
  {
   "cell_type": "markdown",
   "id": "e71246d0-e4a9-4397-84f7-fef107af47ed",
   "metadata": {},
   "source": [
    "### 4.1 - OneHotEncoding"
   ]
  },
  {
   "cell_type": "markdown",
   "id": "f2d1d1de-4cd1-44ab-97a6-e80d0f525680",
   "metadata": {},
   "source": [
    "![](./images/Slide37.PNG)"
   ]
  },
  {
   "cell_type": "code",
   "execution_count": 38,
   "id": "e706c868-51d0-4550-944c-9c53ac4b4fe3",
   "metadata": {
    "tags": []
   },
   "outputs": [
    {
     "data": {
      "text/html": [
       "<style type=\"text/css\">\n",
       "\ttable {border:ridge 5px;}\n",
       "\ttable td {border:inset 1px;}\n",
       "\ttable tr#HeaderRow {background-color:grey; color:white;}</style>\n",
       "<html><table>\n",
       "\t<tr id=\"HeaderRow\">\n",
       "\t\t<th>txn_id</th>\n",
       "\t\t<th>amount</th>\n",
       "\t\t<th>oldbalanceOrig</th>\n",
       "\t\t<th>newbalanceOrig</th>\n",
       "\t\t<th>oldbalanceDest</th>\n",
       "\t\t<th>newbalanceDest</th>\n",
       "\t\t<th>type_CASH_OUT</th>\n",
       "\t\t<th>type_PAYMENT</th>\n",
       "\t\t<th>type_CASH_IN</th>\n",
       "\t\t<th>type_TRANSFER</th>\n",
       "\t\t<th>isFraud</th>\n",
       "\t</tr>\n",
       "\t<tr>\n",
       "\t\t<td>17590307</td>\n",
       "\t\t<td>663.94</td>\n",
       "\t\t<td>72671.06</td>\n",
       "\t\t<td>72007.13</td>\n",
       "\t\t<td>661545.63</td>\n",
       "\t\t<td>662209.56</td>\n",
       "\t\t<td>0</td>\n",
       "\t\t<td>0</td>\n",
       "\t\t<td>0</td>\n",
       "\t\t<td>0</td>\n",
       "\t\t<td>0</td>\n",
       "\t</tr>\n",
       "\t<tr>\n",
       "\t\t<td>28598485</td>\n",
       "\t\t<td>19077.41</td>\n",
       "\t\t<td>0.0</td>\n",
       "\t\t<td>0.0</td>\n",
       "\t\t<td>0.0</td>\n",
       "\t\t<td>0.0</td>\n",
       "\t\t<td>0</td>\n",
       "\t\t<td>1</td>\n",
       "\t\t<td>0</td>\n",
       "\t\t<td>0</td>\n",
       "\t\t<td>0</td>\n",
       "\t</tr>\n",
       "\t<tr>\n",
       "\t\t<td>35596793</td>\n",
       "\t\t<td>2107.58</td>\n",
       "\t\t<td>10654.0</td>\n",
       "\t\t<td>8546.42</td>\n",
       "\t\t<td>0.0</td>\n",
       "\t\t<td>0.0</td>\n",
       "\t\t<td>0</td>\n",
       "\t\t<td>1</td>\n",
       "\t\t<td>0</td>\n",
       "\t\t<td>0</td>\n",
       "\t\t<td>0</td>\n",
       "\t</tr>\n",
       "\t<tr>\n",
       "\t\t<td>579967</td>\n",
       "\t\t<td>6626.9</td>\n",
       "\t\t<td>22128.0</td>\n",
       "\t\t<td>15501.1</td>\n",
       "\t\t<td>0.0</td>\n",
       "\t\t<td>0.0</td>\n",
       "\t\t<td>0</td>\n",
       "\t\t<td>1</td>\n",
       "\t\t<td>0</td>\n",
       "\t\t<td>0</td>\n",
       "\t\t<td>0</td>\n",
       "\t</tr>\n",
       "\t<tr>\n",
       "\t\t<td>22627176</td>\n",
       "\t\t<td>3949.31</td>\n",
       "\t\t<td>31452.0</td>\n",
       "\t\t<td>27502.69</td>\n",
       "\t\t<td>0.0</td>\n",
       "\t\t<td>0.0</td>\n",
       "\t\t<td>0</td>\n",
       "\t\t<td>1</td>\n",
       "\t\t<td>0</td>\n",
       "\t\t<td>0</td>\n",
       "\t\t<td>0</td>\n",
       "\t</tr>\n",
       "\t<tr>\n",
       "\t\t<td>630539</td>\n",
       "\t\t<td>47077.98</td>\n",
       "\t\t<td>0.0</td>\n",
       "\t\t<td>0.0</td>\n",
       "\t\t<td>76844.74</td>\n",
       "\t\t<td>123922.71</td>\n",
       "\t\t<td>1</td>\n",
       "\t\t<td>0</td>\n",
       "\t\t<td>0</td>\n",
       "\t\t<td>0</td>\n",
       "\t\t<td>0</td>\n",
       "\t</tr>\n",
       "\t<tr>\n",
       "\t\t<td>31628910</td>\n",
       "\t\t<td>12209.11</td>\n",
       "\t\t<td>0.0</td>\n",
       "\t\t<td>0.0</td>\n",
       "\t\t<td>0.0</td>\n",
       "\t\t<td>0.0</td>\n",
       "\t\t<td>0</td>\n",
       "\t\t<td>1</td>\n",
       "\t\t<td>0</td>\n",
       "\t\t<td>0</td>\n",
       "\t\t<td>0</td>\n",
       "\t</tr>\n",
       "\t<tr>\n",
       "\t\t<td>1626685</td>\n",
       "\t\t<td>365169.04</td>\n",
       "\t\t<td>118000.0</td>\n",
       "\t\t<td>0.0</td>\n",
       "\t\t<td>33412.03</td>\n",
       "\t\t<td>36679.9</td>\n",
       "\t\t<td>1</td>\n",
       "\t\t<td>0</td>\n",
       "\t\t<td>0</td>\n",
       "\t\t<td>0</td>\n",
       "\t\t<td>0</td>\n",
       "\t</tr>\n",
       "\t<tr>\n",
       "\t\t<td>36609640</td>\n",
       "\t\t<td>427435.68</td>\n",
       "\t\t<td>0.0</td>\n",
       "\t\t<td>0.0</td>\n",
       "\t\t<td>1875036.2</td>\n",
       "\t\t<td>2302471.88</td>\n",
       "\t\t<td>0</td>\n",
       "\t\t<td>0</td>\n",
       "\t\t<td>0</td>\n",
       "\t\t<td>1</td>\n",
       "\t\t<td>0</td>\n",
       "\t</tr>\n",
       "\t<tr>\n",
       "\t\t<td>37631072</td>\n",
       "\t\t<td>33748.36</td>\n",
       "\t\t<td>269164.31</td>\n",
       "\t\t<td>235415.95</td>\n",
       "\t\t<td>0.0</td>\n",
       "\t\t<td>0.0</td>\n",
       "\t\t<td>0</td>\n",
       "\t\t<td>1</td>\n",
       "\t\t<td>0</td>\n",
       "\t\t<td>0</td>\n",
       "\t\t<td>0</td>\n",
       "\t</tr>\n",
       "</table></html>"
      ],
      "text/plain": [
       "     txn_id     amount  oldbalanceOrig  newbalanceOrig  oldbalanceDest  newbalanceDest  type_CASH_OUT  type_PAYMENT  type_CASH_IN  type_TRANSFER  isFraud\n",
       "0  28598485   19077.41            0.00            0.00            0.00            0.00              0             1             0              0        0\n",
       "1  29619917  173502.39      2928253.33      3101755.72      1265205.02      1091702.63              0             0             1              0        0\n",
       "2    579967    6626.90        22128.00        15501.10            0.00            0.00              0             1             0              0        0\n",
       "3  35596793    2107.58        10654.00         8546.42            0.00            0.00              0             1             0              0        0\n",
       "4   3613410  126560.01        13679.00            0.00       815173.01       941733.03              1             0             0              0        0\n",
       "5    630539   47077.98            0.00            0.00        76844.74       123922.71              1             0             0              0        0\n",
       "6   1626685  365169.04       118000.00            0.00        33412.03        36679.90              1             0             0              0        0\n",
       "7  31628910   12209.11            0.00            0.00            0.00            0.00              0             1             0              0        0\n",
       "8  37631072   33748.36       269164.31       235415.95            0.00            0.00              0             1             0              0        0\n",
       "9  27604888    7902.67        78637.00        70734.33      4119513.86      4127416.54              0             0             0              1        0"
      ]
     },
     "execution_count": 38,
     "metadata": {},
     "output_type": "execute_result"
    }
   ],
   "source": [
    "obj = tdml.OneHotEncodingTransform(data=data_in_vantage_test,\n",
    "                              object=fit_obj.result,\n",
    "                              is_input_dense=True)\n",
    "ADS_scoring = obj.result[[id_column] +features + [target]]\n",
    "ADS_scoring"
   ]
  },
  {
   "cell_type": "markdown",
   "id": "7358b83b-03f0-45a8-9f9c-9fd04be8266f",
   "metadata": {},
   "source": [
    "### 4.2 - Scaling"
   ]
  },
  {
   "cell_type": "markdown",
   "id": "12a10bfe-12bc-460f-8d88-d34353d7cb12",
   "metadata": {},
   "source": [
    "![](./images/Slide38.PNG)"
   ]
  },
  {
   "cell_type": "code",
   "execution_count": 39,
   "id": "dc595992-b392-4edf-9ca9-03540dc30d30",
   "metadata": {
    "tags": []
   },
   "outputs": [
    {
     "data": {
      "text/html": [
       "<style type=\"text/css\">\n",
       "\ttable {border:ridge 5px;}\n",
       "\ttable td {border:inset 1px;}\n",
       "\ttable tr#HeaderRow {background-color:grey; color:white;}</style>\n",
       "<html><table>\n",
       "\t<tr id=\"HeaderRow\">\n",
       "\t\t<th>txn_id</th>\n",
       "\t\t<th>amount</th>\n",
       "\t\t<th>oldbalanceOrig</th>\n",
       "\t\t<th>newbalanceOrig</th>\n",
       "\t\t<th>oldbalanceDest</th>\n",
       "\t\t<th>newbalanceDest</th>\n",
       "\t\t<th>type_CASH_OUT</th>\n",
       "\t\t<th>type_PAYMENT</th>\n",
       "\t\t<th>type_CASH_IN</th>\n",
       "\t\t<th>type_TRANSFER</th>\n",
       "\t\t<th>isFraud</th>\n",
       "\t</tr>\n",
       "\t<tr>\n",
       "\t\t<td>23580193</td>\n",
       "\t\t<td>-0.2905621127342167</td>\n",
       "\t\t<td>-0.2850164034588886</td>\n",
       "\t\t<td>-0.28859083338422087</td>\n",
       "\t\t<td>-0.3340922595525263</td>\n",
       "\t\t<td>-0.3476100005485099</td>\n",
       "\t\t<td>0</td>\n",
       "\t\t<td>1</td>\n",
       "\t\t<td>0</td>\n",
       "\t\t<td>0</td>\n",
       "\t\t<td>0</td>\n",
       "\t</tr>\n",
       "\t<tr>\n",
       "\t\t<td>37585394</td>\n",
       "\t\t<td>-0.28263238225513854</td>\n",
       "\t\t<td>-0.2795893089069774</td>\n",
       "\t\t<td>-0.28859083338422087</td>\n",
       "\t\t<td>-0.3340922595525263</td>\n",
       "\t\t<td>-0.3476100005485099</td>\n",
       "\t\t<td>0</td>\n",
       "\t\t<td>1</td>\n",
       "\t\t<td>0</td>\n",
       "\t\t<td>0</td>\n",
       "\t\t<td>0</td>\n",
       "\t</tr>\n",
       "\t<tr>\n",
       "\t\t<td>17620018</td>\n",
       "\t\t<td>-0.29693670058870336</td>\n",
       "\t\t<td>-0.17448741228810952</td>\n",
       "\t\t<td>-0.18247318385587152</td>\n",
       "\t\t<td>-0.3340922595525263</td>\n",
       "\t\t<td>-0.3476100005485099</td>\n",
       "\t\t<td>0</td>\n",
       "\t\t<td>1</td>\n",
       "\t\t<td>0</td>\n",
       "\t\t<td>0</td>\n",
       "\t\t<td>0</td>\n",
       "\t</tr>\n",
       "\t<tr>\n",
       "\t\t<td>4611432</td>\n",
       "\t\t<td>0.2369621265782082</td>\n",
       "\t\t<td>-0.1535409247799264</td>\n",
       "\t\t<td>-0.04848606174713311</td>\n",
       "\t\t<td>-0.1847200821294757</td>\n",
       "\t\t<td>-0.295323412005315</td>\n",
       "\t\t<td>0</td>\n",
       "\t\t<td>0</td>\n",
       "\t\t<td>1</td>\n",
       "\t\t<td>0</td>\n",
       "\t\t<td>0</td>\n",
       "\t</tr>\n",
       "\t<tr>\n",
       "\t\t<td>10627277</td>\n",
       "\t\t<td>-0.2909342806364333</td>\n",
       "\t\t<td>2.0836619862663195</td>\n",
       "\t\t<td>2.0533851495678355</td>\n",
       "\t\t<td>-0.1607444139301894</td>\n",
       "\t\t<td>-0.18829474450414188</td>\n",
       "\t\t<td>0</td>\n",
       "\t\t<td>0</td>\n",
       "\t\t<td>1</td>\n",
       "\t\t<td>0</td>\n",
       "\t\t<td>0</td>\n",
       "\t</tr>\n",
       "\t<tr>\n",
       "\t\t<td>39622222</td>\n",
       "\t\t<td>-0.2555880999439135</td>\n",
       "\t\t<td>-0.27931308380106656</td>\n",
       "\t\t<td>-0.28859083338422087</td>\n",
       "\t\t<td>-0.3340922595525263</td>\n",
       "\t\t<td>-0.3476100005485099</td>\n",
       "\t\t<td>0</td>\n",
       "\t\t<td>1</td>\n",
       "\t\t<td>0</td>\n",
       "\t\t<td>0</td>\n",
       "\t\t<td>0</td>\n",
       "\t</tr>\n",
       "\t<tr>\n",
       "\t\t<td>29593489</td>\n",
       "\t\t<td>-0.26196458946262957</td>\n",
       "\t\t<td>-0.2850164034588886</td>\n",
       "\t\t<td>-0.28859083338422087</td>\n",
       "\t\t<td>-0.3340922595525263</td>\n",
       "\t\t<td>-0.3476100005485099</td>\n",
       "\t\t<td>0</td>\n",
       "\t\t<td>1</td>\n",
       "\t\t<td>0</td>\n",
       "\t\t<td>0</td>\n",
       "\t\t<td>0</td>\n",
       "\t</tr>\n",
       "\t<tr>\n",
       "\t\t<td>36605949</td>\n",
       "\t\t<td>-0.2934276066916313</td>\n",
       "\t\t<td>-0.273513145791527</td>\n",
       "\t\t<td>-0.28091366036603843</td>\n",
       "\t\t<td>-0.3340922595525263</td>\n",
       "\t\t<td>-0.3476100005485099</td>\n",
       "\t\t<td>0</td>\n",
       "\t\t<td>1</td>\n",
       "\t\t<td>0</td>\n",
       "\t\t<td>0</td>\n",
       "\t\t<td>0</td>\n",
       "\t</tr>\n",
       "\t<tr>\n",
       "\t\t<td>23608028</td>\n",
       "\t\t<td>-0.2811860706531435</td>\n",
       "\t\t<td>-0.2850164034588886</td>\n",
       "\t\t<td>-0.28859083338422087</td>\n",
       "\t\t<td>-0.3340922595525263</td>\n",
       "\t\t<td>-0.3476100005485099</td>\n",
       "\t\t<td>0</td>\n",
       "\t\t<td>1</td>\n",
       "\t\t<td>0</td>\n",
       "\t\t<td>0</td>\n",
       "\t\t<td>0</td>\n",
       "\t</tr>\n",
       "\t<tr>\n",
       "\t\t<td>592508</td>\n",
       "\t\t<td>0.040587502680324704</td>\n",
       "\t\t<td>-0.02673411965358572</td>\n",
       "\t\t<td>0.03717449907240988</td>\n",
       "\t\t<td>-0.11871273312994668</td>\n",
       "\t\t<td>-0.20194667558097734</td>\n",
       "\t\t<td>0</td>\n",
       "\t\t<td>0</td>\n",
       "\t\t<td>1</td>\n",
       "\t\t<td>0</td>\n",
       "\t\t<td>0</td>\n",
       "\t</tr>\n",
       "</table></html>"
      ],
      "text/plain": [
       "     txn_id    amount  oldbalanceOrig  newbalanceOrig  oldbalanceDest  newbalanceDest  type_CASH_OUT  type_PAYMENT  type_CASH_IN  type_TRANSFER  isFraud\n",
       "0  16631050  0.304859       -0.285016       -0.288591       -0.133271       -0.060460              1             0             0              0        0\n",
       "1  37586536 -0.250042       -0.285016       -0.288591       -0.334092       -0.347610              0             1             0              0        0\n",
       "2   3583495 -0.307968       -0.285016       -0.288591        0.737827        0.713538              0             0             0              1        0\n",
       "3  17596812  0.054521       -0.282868       -0.288591       -0.334092       -0.313472              1             0             0              0        0\n",
       "4  19622975 -0.269971       -0.277713       -0.288591       -0.334092       -0.347610              0             1             0              0        0\n",
       "5  27634599 -0.298607       -0.285016       -0.288591       -0.334092       -0.347610              0             1             0              0        0\n",
       "6    622423 -0.081866       -0.285016       -0.288591        0.097362        0.094002              1             0             0              0        0\n",
       "7  19631560 -0.277298       -0.284812       -0.288591       -0.334092       -0.347610              0             1             0              0        0\n",
       "8  39605052 -0.140560       -0.285016       -0.288591       -0.082468       -0.084120              1             0             0              0        0\n",
       "9  18623342  0.261291       -0.285016       -0.288591       -0.200078       -0.130117              1             0             0              0        0"
      ]
     },
     "execution_count": 39,
     "metadata": {},
     "output_type": "execute_result"
    }
   ],
   "source": [
    "ADS_scoring_scaled = tdml.ScaleTransform(data=ADS_scoring,\n",
    "                         object=scaler.output,\n",
    "                         accumulate=[id_column, target]+list(ADS.columns[6:-1])).result\n",
    "ADS_scoring_scaled = ADS_scoring_scaled[[id_column] +features + [target]]\n",
    "ADS_scoring_scaled"
   ]
  },
  {
   "cell_type": "markdown",
   "id": "38e2d9ed-e7da-42f1-9613-0a877a63ee1d",
   "metadata": {},
   "source": [
    "### 5.2 - Machine Learning Model Scoring : trained RandomForest"
   ]
  },
  {
   "cell_type": "markdown",
   "id": "3adf2fdf-9049-4170-ac33-0da57102d240",
   "metadata": {},
   "source": [
    "![](./images/Slide27.PNG)\n",
    "![](./images/Slide39.PNG)"
   ]
  },
  {
   "cell_type": "code",
   "execution_count": 40,
   "id": "71b93f5f-2808-4a81-8606-1f4804d0b00f",
   "metadata": {
    "tags": []
   },
   "outputs": [
    {
     "data": {
      "text/html": [
       "<style type=\"text/css\">\n",
       "\ttable {border:ridge 5px;}\n",
       "\ttable td {border:inset 1px;}\n",
       "\ttable tr#HeaderRow {background-color:grey; color:white;}</style>\n",
       "<html><table>\n",
       "\t<tr id=\"HeaderRow\">\n",
       "\t\t<th>txn_id</th>\n",
       "\t\t<th>prediction</th>\n",
       "\t\t<th>prob</th>\n",
       "\t</tr>\n",
       "\t<tr>\n",
       "\t\t<td>39605052</td>\n",
       "\t\t<td>0</td>\n",
       "\t\t<td>0.8472222222222222</td>\n",
       "\t</tr>\n",
       "\t<tr>\n",
       "\t\t<td>35617450</td>\n",
       "\t\t<td>0</td>\n",
       "\t\t<td>0.8611111111111112</td>\n",
       "\t</tr>\n",
       "\t<tr>\n",
       "\t\t<td>28633294</td>\n",
       "\t\t<td>0</td>\n",
       "\t\t<td>0.7777777777777778</td>\n",
       "\t</tr>\n",
       "\t<tr>\n",
       "\t\t<td>27634599</td>\n",
       "\t\t<td>0</td>\n",
       "\t\t<td>0.875</td>\n",
       "\t</tr>\n",
       "\t<tr>\n",
       "\t\t<td>32578440</td>\n",
       "\t\t<td>0</td>\n",
       "\t\t<td>0.6388888888888888</td>\n",
       "\t</tr>\n",
       "\t<tr>\n",
       "\t\t<td>17596812</td>\n",
       "\t\t<td>0</td>\n",
       "\t\t<td>0.7083333333333334</td>\n",
       "\t</tr>\n",
       "\t<tr>\n",
       "\t\t<td>19631560</td>\n",
       "\t\t<td>0</td>\n",
       "\t\t<td>0.8194444444444444</td>\n",
       "\t</tr>\n",
       "\t<tr>\n",
       "\t\t<td>38588249</td>\n",
       "\t\t<td>0</td>\n",
       "\t\t<td>0.5277777777777778</td>\n",
       "\t</tr>\n",
       "\t<tr>\n",
       "\t\t<td>39584395</td>\n",
       "\t\t<td>0</td>\n",
       "\t\t<td>0.8333333333333334</td>\n",
       "\t</tr>\n",
       "\t<tr>\n",
       "\t\t<td>19625055</td>\n",
       "\t\t<td>0</td>\n",
       "\t\t<td>0.5972222222222222</td>\n",
       "\t</tr>\n",
       "</table></html>"
      ],
      "text/plain": [
       "     txn_id  prediction      prob\n",
       "0  38578053           0  0.847222\n",
       "1  28633294           0  0.777778\n",
       "2  39605052           0  0.847222\n",
       "3  35617450           0  0.861111\n",
       "4  25633722           0  0.902778\n",
       "5  19622975           0  0.763889\n",
       "6  19631560           0  0.819444\n",
       "7  17596812           0  0.708333\n",
       "8   3583495           0  0.708333\n",
       "9  16631050           0  0.875000"
      ]
     },
     "execution_count": 40,
     "metadata": {},
     "output_type": "execute_result"
    }
   ],
   "source": [
    "DecisionForestPredict_obj = tdml.TDDecisionForestPredict(object = DF_DecisionForestModel,\n",
    "                                                data = ADS_scoring_scaled,\n",
    "                                                id_column = id_column,                                                        \n",
    "                                                terms = [\"isFraud\"],\n",
    "                                                output_prob = True,\n",
    "                                                output_responses=[\"0\",\"1\"]\n",
    "                                                )\n",
    "DecisionForestPredict_obj.result"
   ]
  },
  {
   "cell_type": "code",
   "execution_count": 41,
   "id": "4f25908e-ae95-4c85-a48b-67dc8bed7e4b",
   "metadata": {
    "tags": []
   },
   "outputs": [
    {
     "data": {
      "text/html": [
       "<style type=\"text/css\">\n",
       "\ttable {border:ridge 5px;}\n",
       "\ttable td {border:inset 1px;}\n",
       "\ttable tr#HeaderRow {background-color:grey; color:white;}</style>\n",
       "<html><table>\n",
       "\t<tr id=\"HeaderRow\">\n",
       "\t\t<th>prediction</th>\n",
       "\t\t<th>count_txn_id</th>\n",
       "\t\t<th>count_prob</th>\n",
       "\t</tr>\n",
       "\t<tr>\n",
       "\t\t<td>0</td>\n",
       "\t\t<td>1148600</td>\n",
       "\t\t<td>1148600</td>\n",
       "\t</tr>\n",
       "\t<tr>\n",
       "\t\t<td>1</td>\n",
       "\t\t<td>51400</td>\n",
       "\t\t<td>51400</td>\n",
       "\t</tr>\n",
       "</table></html>"
      ],
      "text/plain": [
       "   prediction  count_txn_id  count_prob\n",
       "0           1         51400       51400\n",
       "1           0       1148600     1148600"
      ]
     },
     "execution_count": 41,
     "metadata": {},
     "output_type": "execute_result"
    }
   ],
   "source": [
    "DecisionForestPredict_obj.result.groupby('prediction').count()"
   ]
  },
  {
   "cell_type": "code",
   "execution_count": 42,
   "id": "a44376dc-6d5b-4342-b2db-02fdea2b9324",
   "metadata": {
    "tags": []
   },
   "outputs": [
    {
     "name": "stderr",
     "output_type": "stream",
     "text": [
      "C:\\Users\\dm250067\\AppData\\Local\\Temp\\ipykernel_13008\\3784931260.py:1: DeprecationWarning: \n",
      "Behaviour of the argument(s) \"['lsuffix', 'rsuffix']\" will change in future.\n",
      "Use argument(s) \"['lprefix', 'rprefix']\" instead.\n",
      "  DF_eval = DecisionForestPredict_obj.result.\\\n"
     ]
    },
    {
     "data": {
      "text/html": [
       "<style type=\"text/css\">\n",
       "\ttable {border:ridge 5px;}\n",
       "\ttable td {border:inset 1px;}\n",
       "\ttable tr#HeaderRow {background-color:grey; color:white;}</style>\n",
       "<html><table>\n",
       "\t<tr id=\"HeaderRow\">\n",
       "\t\t<th>txn_id</th>\n",
       "\t\t<th>prediction</th>\n",
       "\t\t<th>prob</th>\n",
       "\t\t<th>isFraud</th>\n",
       "\t</tr>\n",
       "\t<tr>\n",
       "\t\t<td>39605052</td>\n",
       "\t\t<td>0</td>\n",
       "\t\t<td>0.8472222222222222</td>\n",
       "\t\t<td>0</td>\n",
       "\t</tr>\n",
       "\t<tr>\n",
       "\t\t<td>28633294</td>\n",
       "\t\t<td>0</td>\n",
       "\t\t<td>0.7777777777777778</td>\n",
       "\t\t<td>0</td>\n",
       "\t</tr>\n",
       "\t<tr>\n",
       "\t\t<td>19589573</td>\n",
       "\t\t<td>0</td>\n",
       "\t\t<td>0.8888888888888888</td>\n",
       "\t\t<td>0</td>\n",
       "\t</tr>\n",
       "\t<tr>\n",
       "\t\t<td>32578440</td>\n",
       "\t\t<td>0</td>\n",
       "\t\t<td>0.6388888888888888</td>\n",
       "\t\t<td>0</td>\n",
       "\t</tr>\n",
       "\t<tr>\n",
       "\t\t<td>25633722</td>\n",
       "\t\t<td>0</td>\n",
       "\t\t<td>0.9027777777777778</td>\n",
       "\t\t<td>0</td>\n",
       "\t</tr>\n",
       "\t<tr>\n",
       "\t\t<td>19622975</td>\n",
       "\t\t<td>0</td>\n",
       "\t\t<td>0.7638888888888888</td>\n",
       "\t\t<td>0</td>\n",
       "\t</tr>\n",
       "\t<tr>\n",
       "\t\t<td>19631560</td>\n",
       "\t\t<td>0</td>\n",
       "\t\t<td>0.8194444444444444</td>\n",
       "\t\t<td>0</td>\n",
       "\t</tr>\n",
       "\t<tr>\n",
       "\t\t<td>17596812</td>\n",
       "\t\t<td>0</td>\n",
       "\t\t<td>0.7083333333333334</td>\n",
       "\t\t<td>0</td>\n",
       "\t</tr>\n",
       "\t<tr>\n",
       "\t\t<td>3583495</td>\n",
       "\t\t<td>0</td>\n",
       "\t\t<td>0.7083333333333334</td>\n",
       "\t\t<td>0</td>\n",
       "\t</tr>\n",
       "\t<tr>\n",
       "\t\t<td>38588249</td>\n",
       "\t\t<td>0</td>\n",
       "\t\t<td>0.5277777777777778</td>\n",
       "\t\t<td>0</td>\n",
       "\t</tr>\n",
       "</table></html>"
      ],
      "text/plain": [
       "     txn_id  prediction      prob  isFraud\n",
       "0  31628910           0  0.888889        0\n",
       "1  10583414           0  0.680556        0\n",
       "2  23595018           0  0.875000        0\n",
       "3  17590307           0  0.708333        0\n",
       "4  21625463           0  0.541667        0\n",
       "5   3613410           0  0.777778        0\n",
       "6    579967           0  0.847222        0\n",
       "7   3635678           0  0.569444        0\n",
       "8  28598485           0  0.833333        0\n",
       "9    630539           0  0.805556        0"
      ]
     },
     "execution_count": 42,
     "metadata": {},
     "output_type": "execute_result"
    }
   ],
   "source": [
    "DF_eval = DecisionForestPredict_obj.result.\\\n",
    "    join(other = ADS_scoring_scaled, on=\"txn_id\", rsuffix=\"truth_\").\\\n",
    "    select([\"txn_id\", \"prediction\", \"prob\", \"isFraud\"])\n",
    "DF_eval"
   ]
  },
  {
   "cell_type": "code",
   "execution_count": 43,
   "id": "a0e0c014-599b-4a9e-9173-95228fc92013",
   "metadata": {
    "tags": []
   },
   "outputs": [
    {
     "data": {
      "text/html": [
       "<style type=\"text/css\">\n",
       "                                table {border:ridge 5px;}\n",
       "                                table td {border:inset 1px;}\n",
       "                                table tr#HeaderRow {background-color:grey; color:white;}\n",
       "                               </style>\n",
       "                               <html>\n",
       "                                  <table>\n",
       "                                    <tr id=\"HeaderRow\">\n",
       "                                        <th>COLUMN NAME</th>\n",
       "                                        <th>TYPE</th>\n",
       "                                    </tr>\n",
       "                                    <tr><td>txn_id</td><td>INTEGER()</td></tr>\n",
       "<tr><td>prediction</td><td>INTEGER()</td></tr>\n",
       "<tr><td>prob</td><td>FLOAT()</td></tr>\n",
       "<tr><td>isFraud</td><td>INTEGER()</td></tr>\n",
       "                                  </table>\n",
       "                               </html>\n",
       "                            "
      ],
      "text/plain": [
       "txn_id        INTEGER()\n",
       "prediction    INTEGER()\n",
       "prob            FLOAT()\n",
       "isFraud       INTEGER()"
      ]
     },
     "execution_count": 43,
     "metadata": {},
     "output_type": "execute_result"
    }
   ],
   "source": [
    "DF_eval.tdtypes"
   ]
  },
  {
   "cell_type": "markdown",
   "id": "45d91232-a2b4-41da-be10-b8df13e9d22f",
   "metadata": {},
   "source": [
    "<div class=\"alert alert-block alert-info\"> <b> </b> \n",
    "</div>"
   ]
  },
  {
   "cell_type": "markdown",
   "id": "3cb545d7-b1d9-4021-b20a-16fb95f87b25",
   "metadata": {},
   "source": [
    "## 6 - Model Learning Pipeline Evaluation"
   ]
  },
  {
   "cell_type": "markdown",
   "id": "f0f51534-44ee-4e7c-bff6-d5c5298d4eb1",
   "metadata": {},
   "source": [
    "<div class=\"alert alert-block alert-info\"> <b> </b> \n",
    "</div>"
   ]
  },
  {
   "cell_type": "markdown",
   "id": "420ab3cb-1452-4682-848e-73b5a1b8fe9d",
   "metadata": {},
   "source": [
    "![](./images/Slide40.PNG)"
   ]
  },
  {
   "cell_type": "code",
   "execution_count": 44,
   "id": "492a8fed-a180-499a-b0ac-77322b98f77a",
   "metadata": {
    "tags": []
   },
   "outputs": [
    {
     "data": {
      "text/html": [
       "<style type=\"text/css\">\n",
       "\ttable {border:ridge 5px;}\n",
       "\ttable td {border:inset 1px;}\n",
       "\ttable tr#HeaderRow {background-color:grey; color:white;}</style>\n",
       "<html><table>\n",
       "\t<tr id=\"HeaderRow\">\n",
       "\t\t<th>count_txn_id</th>\n",
       "\t\t<th>count_prediction</th>\n",
       "\t\t<th>count_prob</th>\n",
       "\t\t<th>count_isFraud</th>\n",
       "\t</tr>\n",
       "\t<tr>\n",
       "\t\t<td>1200000</td>\n",
       "\t\t<td>2</td>\n",
       "\t\t<td>34</td>\n",
       "\t\t<td>2</td>\n",
       "\t</tr>\n",
       "</table></html>"
      ],
      "text/plain": [
       "   count_txn_id  count_prediction  count_prob  count_isFraud\n",
       "0       1200000                 2          34              2"
      ]
     },
     "execution_count": 44,
     "metadata": {},
     "output_type": "execute_result"
    }
   ],
   "source": [
    "DF_eval.count(distinct=True)"
   ]
  },
  {
   "cell_type": "code",
   "execution_count": 45,
   "id": "ad4d1131-48e8-44cd-bfd3-c153abc6b2a2",
   "metadata": {
    "tags": []
   },
   "outputs": [],
   "source": [
    "#help(tdml.ClassificationEvaluator)"
   ]
  },
  {
   "cell_type": "code",
   "execution_count": 46,
   "id": "401ca1fa-1e27-4952-8043-0765031c2e50",
   "metadata": {
    "tags": []
   },
   "outputs": [
    {
     "data": {
      "text/plain": [
       "\n",
       "############ output_data Output ############\n",
       "\n",
       "   SeqNum              Metric  MetricValue\n",
       "0       3        Micro-Recall     0.958133\n",
       "1       5     Macro-Precision     0.513143\n",
       "2       6        Macro-Recall     0.915020\n",
       "3       7            Macro-F1     0.514977\n",
       "4       9     Weighted-Recall     0.958133\n",
       "5      10         Weighted-F1     0.977389\n",
       "6       8  Weighted-Precision     0.998560\n",
       "7       4            Micro-F1     0.958133\n",
       "8       2     Micro-Precision     0.958133\n",
       "9       1            Accuracy     0.958133\n",
       "\n",
       "\n",
       "############ result Output ############\n",
       "\n",
       "       Prediction  Mapping  CLASS_1  CLASS_2  Precision    Recall        F1  Support\n",
       "SeqNum                                                                              \n",
       "0               0  CLASS_1  1148400      200   0.999826  0.958246  0.978594  1198440\n",
       "1               1  CLASS_2    50040     1360   0.026459  0.871795  0.051360     1560\n"
      ]
     },
     "execution_count": 46,
     "metadata": {},
     "output_type": "execute_result"
    }
   ],
   "source": [
    "# get evaluation metrics\n",
    "\n",
    "tdml.ClassificationEvaluator(data=DF_eval, observation_column = \"isFraud\",prediction_column = \"prediction\", num_labels=2)"
   ]
  },
  {
   "cell_type": "code",
   "execution_count": 47,
   "id": "a1f94b13-df26-442a-870a-13f60eaf30f5",
   "metadata": {},
   "outputs": [],
   "source": [
    "DF_eval_balanced = DF_eval[DF_eval.isFraud == 1].concat(DF_eval[DF_eval.isFraud == 0].head(n=DF_eval[DF_eval.isFraud == 1].shape[0]))"
   ]
  },
  {
   "cell_type": "code",
   "execution_count": 48,
   "id": "bcda8070-3405-4ed7-85e9-e88cb41b1d76",
   "metadata": {},
   "outputs": [
    {
     "name": "stdout",
     "output_type": "stream",
     "text": [
      "              GINI\n",
      "AUC               \n",
      "0.618943  0.237886\n"
     ]
    }
   ],
   "source": [
    "roc_out = tdml.ROC(probability_column=\"prob\",\n",
    "              observation_column=\"isFraud\",\n",
    "              positive_class=\"1\",\n",
    "              data=DF_eval_balanced)\n",
    "\n",
    "# Print the result DataFrame.\n",
    "print(roc_out.result)"
   ]
  },
  {
   "cell_type": "code",
   "execution_count": 49,
   "id": "e09dae9b-fd09-44b9-a88a-3204f93e4c39",
   "metadata": {},
   "outputs": [
    {
     "data": {
      "text/plain": [
       "<matplotlib.legend.Legend at 0x256435be230>"
      ]
     },
     "execution_count": 49,
     "metadata": {},
     "output_type": "execute_result"
    },
    {
     "data": {
      "image/png": "[encoded data removed]",
      "text/plain": [
       "<Figure size 640x480 with 1 Axes>"
      ]
     },
     "metadata": {},
     "output_type": "display_data"
    }
   ],
   "source": [
    "roc_test = roc_out.output_data.to_pandas()\n",
    "plt.plot(roc_test.fpr,roc_test.tpr, color='darkorange', lw=2, label=f'ROC curve training (area = {roc_out.result.to_pandas().reset_index().AUC[0]:.2f})')\n",
    "plt.plot([0, 1], [0, 1], color='navy', lw=2, linestyle='--')\n",
    "plt.xlim([0.0, 1.0])\n",
    "plt.ylim([0.0, 1.05])\n",
    "plt.xlabel('False Positive Rate')\n",
    "plt.ylabel('True Positive Rate')\n",
    "plt.title('Receiver Operating Characteristic (ROC) - Vantage')\n",
    "plt.legend(loc=\"lower right\")"
   ]
  },
  {
   "cell_type": "markdown",
   "id": "38a7db6a-cf20-45c1-b60b-b42d19a4dcd8",
   "metadata": {},
   "source": [
    "<div class=\"alert alert-block alert-info\"> <b> </b> \n",
    "</div>"
   ]
  },
  {
   "cell_type": "markdown",
   "id": "6451f586-dcb8-4e58-81df-3d53936a3776",
   "metadata": {},
   "source": [
    "![](./images/Slide23.PNG)"
   ]
  },
  {
   "cell_type": "code",
   "execution_count": 50,
   "id": "00ab653d-5ccf-447d-a7cc-98da82c6dfd7",
   "metadata": {
    "tags": []
   },
   "outputs": [
    {
     "data": {
      "text/plain": [
       "True"
      ]
     },
     "execution_count": 50,
     "metadata": {},
     "output_type": "execute_result"
    }
   ],
   "source": [
    "tdml.remove_context()"
   ]
  },
  {
   "cell_type": "code",
   "execution_count": 51,
   "id": "4cd49b58-0084-4801-8c46-cb58f1fb4377",
   "metadata": {
    "tags": []
   },
   "outputs": [
    {
     "name": "stdout",
     "output_type": "stream",
     "text": [
      "elapsed time : 0:03:55.861356  seconds\n"
     ]
    }
   ],
   "source": [
    "toc = datetime.now()\n",
    "print('elapsed time :', toc - tic,' seconds')"
   ]
  },
  {
   "cell_type": "code",
   "execution_count": null,
   "id": "93bec995-5ed3-41e2-a58f-07bdd1794656",
   "metadata": {},
   "outputs": [],
   "source": []
  }
 ],
 "metadata": {
  "kernelspec": {
   "display_name": "Python 3 (ipykernel)",
   "language": "python",
   "name": "python3"
  },
  "language_info": {
   "codemirror_mode": {
    "name": "ipython",
    "version": 3
   },
   "file_extension": ".py",
   "mimetype": "text/x-python",
   "name": "python",
   "nbconvert_exporter": "python",
   "pygments_lexer": "ipython3",
   "version": "3.10.8"
  }
 },
 "nbformat": 4,
 "nbformat_minor": 5
}
